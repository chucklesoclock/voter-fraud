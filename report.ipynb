{
 "cells": [
  {
   "cell_type": "code",
   "execution_count": 1,
   "metadata": {},
   "outputs": [],
   "source": [
    "from bs4 import BeautifulSoup, SoupStrainer\n",
    "import bs4\n",
    "import urllib\n",
    "import pathlib"
   ]
  },
  {
   "cell_type": "markdown",
   "metadata": {},
   "source": [
    "## Get HTML Data From The Heritage Foundation\n",
    "\n",
    "These are public-facing sites and freely released data. Capturing it and storing it in a pandas DataFrame should be acceptable.\n",
    "\n",
    "An example URL that we can scrape data from is [`https://www.heritage.org/voterfraud/search?combine=&state=All&year=&case_type=All&fraud_type=All&page=0`](https://www.heritage.org/voterfraud/search?combine=&state=All&year=&case_type=All&fraud_type=All&page=0). Their entire database should have be been queried, and it shows 15 results per page over 63 pages. This makes our lives a little difficult. By this reckoning, there should be 62 * 15 + 7 = 937 records. \n",
    "\n",
    "This is a little worrying, as in big bold letters on The Heritage Foundation [Voter Fraud report splash page](https://www.heritage.org/voterfraud), they claim they have collected \"1,277 proven instances of voter fraud\". This is different than their [printable report](https://www.heritage.org/sites/default/files/voterfraud_download/VoterFraudCases_5.pdf), which lists \"1,088 proven instances\", and different yet again from the [White House document](https://www.whitehouse.gov/sites/whitehouse.gov/files/docs/pacei-voterfraudcases.pdf) saved as part of the now-defunct PACEI effort (decudible from the URL), which lists 1,071. Since the commission ended in 2018, it stands to reason that The Heritage Foundation might have added to their online database...it remains to be seen if that data is public-facing. \n",
    "\n",
    "PACEI was the Presidential Advisory Commission on Election Integrity, which was disbanded after a lawsuit from commision member Secetary of State Matthew Dunlap of the State of Maine that alleged that he and other members were illegally excluded from its work. The generally-held consensus is that the commission found no evidence of widespread voter fraud, and the PACEI was formed for the sole purpose of backing up President's Trump unproven claims of the same. An overview of the situation can be found on [Maine's government website](https://www.maine.gov/sos/news/2018/paceidocs.html) and on a [left-leaning administration watchdog](https://www.americanoversight.org/investigation/dunlap-v-pacei-investigating-voter-fraud-commission). \n",
    "\n",
    "Given that the Heritage Foundation was considered a worthy source of data for a presidental commission, it's worth getting a handle on what is actually in their database. Unfortunately, they have not made the database easily available, and we have to resort to scraping individual webpages. "
   ]
  },
  {
   "cell_type": "markdown",
   "metadata": {},
   "source": [
    "### Get HTML of The Heritage Foundation Webpages"
   ]
  },
  {
   "cell_type": "code",
   "execution_count": 2,
   "metadata": {},
   "outputs": [],
   "source": [
    "links = ['https://www.heritage.org/voterfraud/search' +\n",
    "         '?combine=&state=All&year=&case_type=All&fraud_type=All&page={}'.format(i) for i in range(63)]"
   ]
  },
  {
   "cell_type": "code",
   "execution_count": 3,
   "metadata": {},
   "outputs": [],
   "source": [
    "def get_table_html(url):\n",
    "    headers = {'Referer': 'https://www.heritage.org/', \n",
    "           'User-Agent': 'Mozilla/5.0 (Windows NT 10.0; Win64; x64) AppleWebKit/537.36 (KHTML, like Gecko) Chrome/80.0.3987.149 Safari/537.36'}\n",
    "    request = urllib.request.Request(url, headers=headers)\n",
    "    response = urllib.request.urlopen(request)\n",
    "    html = response.read().decode('utf-8')\n",
    "    return html"
   ]
  },
  {
   "cell_type": "code",
   "execution_count": 4,
   "metadata": {},
   "outputs": [],
   "source": [
    "def get_all_table_htmls(check_local=True):\n",
    "    htmls_path = pathlib.Path('table_htmls')\n",
    "    if check_local and (htmls_path / 'page_63.txt').exists():\n",
    "        htmls = []\n",
    "        for fpath in [x for x in sorted(htmls_path.iterdir(), key=lambda y: y.name) if x.is_file()]: \n",
    "            if fpath.name.startswith('page_') and fpath.suffix == '.txt':\n",
    "                htmls.append(fpath.read_text())\n",
    "    else:\n",
    "        htmls = [get_table_html(link) for link in links]\n",
    "        htmls_path.mkdir(exist_ok=True)\n",
    "        for i, html in enumerate(htmls):\n",
    "            (htmls_path / 'page_{:02d}.txt'.format(i+1)).write_text(html)\n",
    "    return htmls"
   ]
  },
  {
   "cell_type": "code",
   "execution_count": 5,
   "metadata": {},
   "outputs": [],
   "source": [
    "htmls = get_all_table_htmls()"
   ]
  },
  {
   "cell_type": "markdown",
   "metadata": {},
   "source": [
    "## Wrangle Data"
   ]
  },
  {
   "cell_type": "markdown",
   "metadata": {},
   "source": [
    "### Test on 1 HTML File"
   ]
  },
  {
   "cell_type": "code",
   "execution_count": 6,
   "metadata": {
    "tags": [
     "outputPrepend"
    ]
   },
   "outputs": [
    {
     "output_type": "stream",
     "name": "stdout",
     "text": "</h4>\n    <ul class=\"pager__items js-pager__items\">\n                                                        <li class=\"pager__item is-active\">\n                                          <a href=\"?combine=&amp;state=All&amp;year=&amp;case_type=All&amp;fraud_type=All&amp;page=0\" title=\"Current page\">\n            <span class=\"visually-hidden\">\n              Current page\n            </span>1</a>\n        </li>\n              <li class=\"pager__item\">\n                                          <a href=\"?combine=&amp;state=All&amp;year=&amp;case_type=All&amp;fraud_type=All&amp;page=1\" title=\"Go to page 2\">\n            <span class=\"visually-hidden\">\n              Page\n            </span>2</a>\n        </li>\n              <li class=\"pager__item\">\n                                          <a href=\"?combine=&amp;state=All&amp;year=&amp;case_type=All&amp;fraud_type=All&amp;page=2\" title=\"Go to page 3\">\n            <span class=\"visually-hidden\">\n              Page\n            </span>3</a>\n        </li>\n              <li class=\"pager__item\">\n                                          <a href=\"?combine=&amp;state=All&amp;year=&amp;case_type=All&amp;fraud_type=All&amp;page=3\" title=\"Go to page 4\">\n            <span class=\"visually-hidden\">\n              Page\n            </span>4</a>\n        </li>\n              <li class=\"pager__item\">\n                                          <a href=\"?combine=&amp;state=All&amp;year=&amp;case_type=All&amp;fraud_type=All&amp;page=4\" title=\"Go to page 5\">\n            <span class=\"visually-hidden\">\n              Page\n            </span>5</a>\n        </li>\n              <li class=\"pager__item\">\n                                          <a href=\"?combine=&amp;state=All&amp;year=&amp;case_type=All&amp;fraud_type=All&amp;page=5\" title=\"Go to page 6\">\n            <span class=\"visually-hidden\">\n              Page\n            </span>6</a>\n        </li>\n              <li class=\"pager__item\">\n                                          <a href=\"?combine=&amp;state=All&amp;year=&amp;case_type=All&amp;fraud_type=All&amp;page=6\" title=\"Go to page 7\">\n            <span class=\"visually-hidden\">\n              Page\n            </span>7</a>\n        </li>\n              <li class=\"pager__item\">\n                                          <a href=\"?combine=&amp;state=All&amp;year=&amp;case_type=All&amp;fraud_type=All&amp;page=7\" title=\"Go to page 8\">\n            <span class=\"visually-hidden\">\n              Page\n            </span>8</a>\n        </li>\n              <li class=\"pager__item\">\n                                          <a href=\"?combine=&amp;state=All&amp;year=&amp;case_type=All&amp;fraud_type=All&amp;page=8\" title=\"Go to page 9\">\n            <span class=\"visually-hidden\">\n              Page\n            </span>9</a>\n        </li>\n                          <li class=\"pager__item pager__item--ellipsis\" role=\"presentation\">&hellip;</li>\n                          <li class=\"pager__item pager__item--next\">\n          <a href=\"?combine=&amp;state=All&amp;year=&amp;case_type=All&amp;fraud_type=All&amp;page=1\" title=\"Go to next page\" rel=\"next\">\n            <span class=\"visually-hidden\">Next page</span>\n            <span aria-hidden=\"true\">Next</span>\n          </a>\n        </li>\n                          <li class=\"pager__item pager__item--last\">\n          <a href=\"?combine=&amp;state=All&amp;year=&amp;case_type=All&amp;fraud_type=All&amp;page=62\" title=\"Go to last page\">\n            <span class=\"visually-hidden\">Last page</span>\n            <span aria-hidden=\"true\">Last</span>\n          </a>\n        </li>\n          </ul>\n  </nav>\n\n              </div>\n      <div class=\"view-footer-wrapper\">\n      <div class=\"view-footer\" id=\"key\">\n        <h3>Key &amp; Definitions</h3><h4>Types of Cases</h4><div class=\"view view-voter-fraud-case-types view-id-voter_fraud_case_types view-display-id-block_1 js-view-dom-id-2f31d9022c3d6df701e42a910be9a605ce5a6e514d43052107fb35d3377c0811\">\n  \n    \n      \n      <div class=\"view-content\">\n          <div class=\"views-row\"><div class=\"views-field views-field-name\"><span class=\"field-content\">Criminal Conviction</span></div><div class=\"views-field views-field-description__value\"><span class=\"field-content\"><p>Any case that results in a defendant entering a plea of guilty or no contest, or being found guilty in court of election-related offenses.</p>\n</span></div></div>\n    <div class=\"views-row\"><div class=\"views-field views-field-name\"><span class=\"field-content\">Judicial Finding</span></div><div class=\"views-field views-field-description__value\"><span class=\"field-content\"><p>A finding by a court of law that fraud occurred in an election, including judicial orders overturning election results or ordering a new election due to fraud.</p>\n</span></div></div>\n    <div class=\"views-row\"><div class=\"views-field views-field-name\"><span class=\"field-content\">Civil Penalty</span></div><div class=\"views-field views-field-description__value\"><span class=\"field-content\"><p>Any civil case resulting in fines or other penalties imposed for a violation of election laws.</p>\n</span></div></div>\n    <div class=\"views-row\"><div class=\"views-field views-field-name\"><span class=\"field-content\">Official Finding</span></div><div class=\"views-field views-field-description__value\"><span class=\"field-content\"><p>A finding by a government body that fraud occurred in an election, including orders overturning election results or ordering a new election due to fraud.</p>\n</span></div></div>\n    <div class=\"views-row\"><div class=\"views-field views-field-name\"><span class=\"field-content\">Diversion Program</span></div><div class=\"views-field views-field-description__value\"><span class=\"field-content\"><p>Any criminal case in which a judge directs a defendant into a pre-trial diversion program, or stays or defers adjudication with the understanding that the conviction will be cleared upon completion of the program.</p>\n</span></div></div>\n\n    </div>\n  \n          </div><h4>Types of Voter Fraud</h4><div class=\"view view-voter-fraud-case-types view-id-voter_fraud_case_types view-display-id-block_2 js-view-dom-id-151e8aeaecc126f12e103dc3d6749324fdd91afa2642f4f54b26040a09634555\">\n  \n    \n      \n      <div class=\"view-content\">\n          <div class=\"views-row\"><div class=\"views-field views-field-name\"><span class=\"field-content\">Fraudulent Use Of Absentee Ballots</span></div><div class=\"views-field views-field-description__value\"><span class=\"field-content\"><p>Requesting absentee ballots and voting without the knowledge of the actual voter; or obtaining the absentee ballot from a voter and either filling it in directly and forging the voter’s signature or illegally telling the voter who to vote for.</p>\n</span></div></div>\n    <div class=\"views-row\"><div class=\"views-field views-field-name\"><span class=\"field-content\">Ineligible Voting</span></div><div class=\"views-field views-field-description__value\"><span class=\"field-content\"><p>Illegal registration and voting by individuals who are not U.S. citizens, are convicted felons, or are otherwise not eligible to vote.</p>\n</span></div></div>\n    <div class=\"views-row\"><div class=\"views-field views-field-name\"><span class=\"field-content\">Impersonation Fraud At The Polls</span></div><div class=\"views-field views-field-description__value\"><span class=\"field-content\"><p>Voting in the name of other legitimate voters and voters who have died, moved away, or lost their right to vote because they are felons, but remain registered.</p>\n</span></div></div>\n    <div class=\"views-row\"><div class=\"views-field views-field-name\"><span class=\"field-content\">Buying Votes</span></div><div class=\"views-field views-field-description__value\"><span class=\"field-content\"><p>Paying voters to cast either an in-person or absentee ballot for a particular candidate.</p>\n</span></div></div>\n    <div class=\"views-row\"><div class=\"views-field views-field-name\"><span class=\"field-content\">Ballot Petition Fraud</span></div><div class=\"views-field views-field-description__value\"><span class=\"field-content\"><p>Forging the signatures of registered voters on the ballot petitions that must be filed with election officials in some states for a candidate or issue to be listed on the official ballot</p>\n</span></div></div>\n    <div class=\"views-row\"><div class=\"views-field views-field-name\"><span class=\"field-content\">Duplicate Voting</span></div><div class=\"views-field views-field-description__value\"><span class=\"field-content\"><p>Registering in multiple locations and voting in the same election in more than one jurisdiction or state.</p>\n</span></div></div>\n    <div class=\"views-row\"><div class=\"views-field views-field-name\"><span class=\"field-content\">False Registrations</span></div><div class=\"views-field views-field-description__value\"><span class=\"field-content\"><p>Voting under fraudulent voter registrations that either use a phony name and a real or fake address or claim residence in a particular jurisdiction where the registered voter does not actually live and is not entitled to vote.</p>\n</span></div></div>\n    <div class=\"views-row\"><div class=\"views-field views-field-name\"><span class=\"field-content\">Altering The Vote Count</span></div><div class=\"views-field views-field-description__value\"><span class=\"field-content\"><p>Changing the actual vote count either in a precinct or at the central location where votes are counted.</p>\n</span></div></div>\n    <div class=\"views-row\"><div class=\"views-field views-field-name\"><span class=\"field-content\">Illegal &quot;Assistance&quot; At The Polls</span></div><div class=\"views-field views-field-description__value\"><span class=\"field-content\"><p>Forcing or intimidating voters—particularly the elderly, disabled, illiterate, and those for whom English is a second language—to vote for particular candidates while supposedly providing them with “assistance.”</p>\n</span></div></div>\n\n    </div>\n  \n          </div>\n      </div>\n    </div>\n    </div>\n</div>\n\n  </div>\n\n  </div>\n\n            \n          </section>\n        </main>\n                      </div>\n    </div>\n    \n    <section class=\"global-footer\">\n      <div class=\"global-footer__wrapper\">\n        <div class=\"global-footer__content\">\n          <a href=\"/\" title=\"Heritage home page\" class=\"heritage-icon-heritage_bell global-footer__heritage-bell-icon\">\n          </a>\n                    <div class=\"global-footer__links-wrapper\" id=\"footer-links\">\n              <div>\n    <nav role=\"navigation\" aria-labelledby=\"block-secondarynavigation-menu\" id=\"block-secondarynavigation\">\n            \n  <h2 class=\"visually-hidden\" id=\"block-secondarynavigation-menu\">Secondary Navigation</h2>\n  \n\n        \n              <ul class=\"mainmenu\">\n              <li>\n        <a href=\"/about-heritage/mission\" data-drupal-link-system-path=\"about-heritage/mission\">About Heritage</a>\n              </li>\n          <li>\n        <a href=\"/events\" data-drupal-link-system-path=\"events\">Events</a>\n              </li>\n          <li>\n        <a href=\"https://secured.heritage.org/renew/?utm_source=heritagefoundation&amp;utm_medium=textlink&amp;utm_campaign=donate&amp;utm_content=heritage_org_renew_topnav\">Renew</a>\n              </li>\n          <li>\n        <a href=\"https://secured.heritage.org/?utm_source=heritagefoundation&amp;utm_medium=textlink&amp;utm_campaign=donate&amp;utm_content=heritage_org_donate_topnav\">Donate</a>\n              </li>\n          <li>\n        <a href=\"/press\" title=\"Press\" data-drupal-link-system-path=\"node/457782\">Press</a>\n              </li>\n          <li>\n        <a href=\"/contact\" data-drupal-link-system-path=\"contact\">Contact</a>\n              </li>\n        </ul>\n  \n\n\n  </nav>\n\n  </div>\n\n          </div>\n          <div class=\"global-footer__subscribe-wrapper\">\n            <p class=\"global-footer__subscribe-title\">Subscribe to email updates</p>\n            <div class=\"global-footer__email-input-container\" aria-live=\"assertive\">\n              <!-- <label for=\"email-address\" class=\"visually-hidden\">Enter email address</label>\n              <input class=\"global-footer__subscribe-email-input\" placeholder=\"Enter email address\" id=\"email-address\" />\n              <button class=\"global-footer__subscribe-btn\">Subscribe</button> -->\n              <script src=\"//app-ab04.marketo.com/js/forms2/js/forms2.min.js\"></script><form id=\"mktoForm_2024\"></form>\n              <script>\n                MktoForms2.loadForm(\"//app-ab04.marketo.com\", \"824-MHT-304\", 2024, function(form) {\n                  form.onSuccess(function(values, followUpUrl) {\n                      // Get the form's jQuery element and hide it\n                      form.getFormElem().hide();\n                      // Return false to prevent the submission handler from taking the lead to the follow up url\n                      jQuery('.global-footer__thank-you').addClass('_active');\n                      return false;\n                  });\n\n                });\n              </script>\n              <div class=\"global-footer__thank-you\">\n                <p class=\"global-footer__thank-you-subtitle\">Thank you for signing up.</p>\n              </div>\n            </div>\n          </div>\n          <div class=\"global-footer__bottom-bar\">\n            <div class=\"global-footer__social-follow-container\">\n              <p class=\"global-footer__follow-us\">Follow us</p>\n              <a href=\"https://twitter.com/heritage\" title=\"Heritage Twitter\" class=\"heritage-icon-social_twitter global-footer__twitter-circle\" target=\"_blank\" data-text=\"Heritage Twitter\"><!-- <span class=\"heritage-icon-social_twitter global-footer__twitter-circle\"></span> --></a>\n              <a href=\"https://www.facebook.com/heritagefoundation\" title=\"Heritage Facebook\" class=\"heritage-icon-social_facebook global-footer__facebook-circle\" target=\"_blank\" data-text='Heritage Facebook'><!-- <span class=\"heritage-icon-social_facebook global-footer__facebook-circle\"></span> --></a>\n            </div>\n            <div class=\"global-footer__privacy-copyright\">\n              <span><a href=\"https://www.heritage.org/article/privacy-policy\" class=\"global-footer__privacy-copyright-link\" title=\"Heritage privacy policy\">Privacy Policy</a></span>\n              <span><a href=\"https://www.heritage.org/article/copyright-notice\" class=\"global-footer__privacy-copyright-link\" title=\"Heritage copyright\">Copyright</a></span>\n              <p class=\"global-footer__privacy-copyright-link global-footer__copyright-link\">\n                &#169; 2020, The Heritage Foundation\n              </p>\n            </div>\n          </div>\n        </div>\n      </div>\n    </section>\n  </div>\n</div>\n\n\n  </div>\n\n    \n    <script type=\"application/json\" data-drupal-selector=\"drupal-settings-json\">{\"path\":{\"baseUrl\":\"\\/\",\"scriptPath\":null,\"pathPrefix\":\"\",\"currentPath\":\"voterfraud\\/search\",\"currentPathIsAdmin\":false,\"isFront\":false,\"currentLanguage\":\"en\",\"currentQuery\":{\"case_type\":\"All\",\"combine\":\"\",\"fraud_type\":\"All\",\"page\":\"0\",\"state\":\"All\",\"year\":\"\"}},\"pluralDelimiter\":\"\\u0003\",\"ajaxPageState\":{\"libraries\":\"better_exposed_filters\\/general,core\\/drupal.autocomplete,core\\/html5shiv,heritage_theme\\/global,heritage_voter_fraud_report\\/voter_fraud_search,search_autocomplete\\/theme.minimal.css,system\\/base,views\\/views.module\",\"theme\":\"heritage_theme\",\"theme_token\":null},\"ajaxTrustedUrl\":{\"\\/voterfraud\\/search\":true},\"search_autocomplete\":{\"search_landing_page\":{\"source\":\"https:\\/\\/www.heritage.org\\/callback\\/nodes\",\"selector\":\"input#edit-contains\",\"minChars\":3,\"maxSuggestions\":10,\"autoSubmit\":true,\"autoRedirect\":true,\"theme\":\"minimal\",\"filters\":[\"title\"],\"noResult\":{\"group\":{\"group_id\":\"no_results\"},\"label\":\"No results found for [search-phrase]. Click to perform full search.\",\"value\":\"[search-phrase]\"},\"moreResults\":{\"group\":{\"group_id\":\"more_results\"},\"label\":\"View all results for [search-phrase].\",\"value\":\"[search-phrase]\"}}},\"user\":{\"uid\":0,\"permissionsHash\":\"e470532ebc8b9e370723ada3fe0de71972b88aa74ab0aee093ccb2ceda7f07f5\"}}</script>\n<script src=\"/core/assets/vendor/domready/ready.min.js?v=1.0.8\"></script>\n<script src=\"/core/assets/vendor/jquery/jquery.min.js?v=3.2.1\"></script>\n<script src=\"/core/assets/vendor/underscore/underscore-min.js?v=1.8.3\"></script>\n<script src=\"/core/assets/vendor/jquery/jquery-extend-3.4.0.js?v=3.2.1\"></script>\n<script src=\"/core/assets/vendor/jquery-once/jquery.once.min.js?v=2.2.0\"></script>\n<script src=\"/core/misc/drupalSettingsLoader.js?v=8.7.8\"></script>\n<script src=\"/core/misc/drupal.js?v=8.7.8\"></script>\n<script src=\"/core/misc/drupal.init.js?v=8.7.8\"></script>\n<script src=\"/core/assets/vendor/jquery.ui/ui/data-min.js?v=1.12.1\"></script>\n<script src=\"/core/assets/vendor/jquery.ui/ui/disable-selection-min.js?v=1.12.1\"></script>\n<script src=\"/core/assets/vendor/jquery.ui/ui/form-min.js?v=1.12.1\"></script>\n<script src=\"/core/assets/vendor/jquery.ui/ui/labels-min.js?v=1.12.1\"></script>\n<script src=\"/core/assets/vendor/jquery.ui/ui/jquery-1-7-min.js?v=1.12.1\"></script>\n<script src=\"/core/assets/vendor/jquery.ui/ui/scroll-parent-min.js?v=1.12.1\"></script>\n<script src=\"/core/assets/vendor/jquery.ui/ui/tabbable-min.js?v=1.12.1\"></script>\n<script src=\"/core/assets/vendor/jquery.ui/ui/unique-id-min.js?v=1.12.1\"></script>\n<script src=\"/core/assets/vendor/jquery.ui/ui/version-min.js?v=1.12.1\"></script>\n<script src=\"/core/assets/vendor/jquery.ui/ui/focusable-min.js?v=1.12.1\"></script>\n<script src=\"/core/assets/vendor/jquery.ui/ui/ie-min.js?v=1.12.1\"></script>\n<script src=\"/core/assets/vendor/jquery.ui/ui/keycode-min.js?v=1.12.1\"></script>\n<script src=\"/core/assets/vendor/jquery.ui/ui/plugin-min.js?v=1.12.1\"></script>\n<script src=\"/core/assets/vendor/jquery.ui/ui/safe-active-element-min.js?v=1.12.1\"></script>\n<script src=\"/core/assets/vendor/jquery.ui/ui/safe-blur-min.js?v=1.12.1\"></script>\n<script src=\"/core/assets/vendor/jquery.ui/ui/widget-min.js?v=1.12.1\"></script>\n<script src=\"/core/misc/progress.js?v=8.7.8\"></script>\n<script src=\"/core/modules/responsive_image/js/responsive_image.ajax.js?v=8.7.8\"></script>\n<script src=\"/core/misc/ajax.js?v=8.7.8\"></script>\n<script src=\"/core/assets/vendor/jquery.ui/ui/position-min.js?v=1.12.1\"></script>\n<script src=\"/core/assets/vendor/jquery.ui/ui/widgets/menu-min.js?v=1.12.1\"></script>\n<script src=\"/core/assets/vendor/jquery.ui/ui/widgets/autocomplete-min.js?v=1.12.1\"></script>\n<script src=\"/modules/contrib/search_autocomplete/js/jquery.autocomplete.js?v=8.7.8\"></script>\n<script src=\"/core/assets/vendor/jquery.ui/ui/widgets/tooltip-min.js?v=1.12.1\"></script>\n<script src=\"/themes/heritage/dist/js/libs/dropdowns-ugh.js?q8qwt9\"></script>\n<script src=\"/themes/heritage/dist/js/libs/slick.js?q8qwt9\"></script>\n<script src=\"/themes/heritage/dist/js/libs/system-polyfills.js?q8qwt9\"></script>\n<script src=\"/themes/heritage/dist/js/libs/system.js?q8qwt9\"></script>\n<script src=\"/themes/heritage/js/heritage.js?q8qwt9\"></script>\n<script src=\"/themes/heritage/js/heritage-theme-behavior.js?q8qwt9\"></script>\n<script src=\"/themes/heritage/src/scripts/libs/ouical.js?q8qwt9\"></script>\n<script src=\"/themes/heritage/src/scripts/libs/jquery.masonry.js?q8qwt9\"></script>\n<script src=\"/themes/heritage/src/scripts/libs/jquery.masonry.ordered.js?q8qwt9\"></script>\n<script src=\"/themes/heritage/dist/js/components/add-to-calendar.js?q8qwt9\"></script>\n<script src=\"/themes/heritage/dist/js/components/masonry.js?q8qwt9\"></script>\n<script src=\"/themes/heritage/dist/js/libs/jquery.hypher.js?q8qwt9\"></script>\n<script src=\"/themes/heritage/dist/js/libs/en-us.js?q8qwt9\"></script>\n<script src=\"/themes/heritage/dist/js/libs/tabby.js?q8qwt9\"></script>\n<script src=\"/modules/contrib/better_exposed_filters/js/better_exposed_filters.js?v=3.x\"></script>\n<script src=\"/modules/custom/heritage_voter_fraud_report/js/voter_fraud_search.js?v=1.x\"></script>\n\n        <img src=\"https://ds.reson8.com/insights.gif?rand=[cache_buster]&t=0&pixt=resonate&advkey=0013000000R6OopAAF&opptykey=THEF0617C&evkey=100200825&evtype=custom\" width=1 height=1 border=0>\n      </body>\n</html>\n\n"
    }
   ],
   "source": [
    "print(htmls[0])"
   ]
  },
  {
   "cell_type": "code",
   "execution_count": 7,
   "metadata": {
    "tags": [
     "outputPrepend"
    ]
   },
   "outputs": [
    {
     "output_type": "stream",
     "name": "stdout",
     "text": "-field-name\">\n <span class=\"views-label views-label-name\">\n  Name\n </span>\n <span class=\"field-content\">\n  Gay Nell Tinker\n </span>\n</span>\n<span class=\"views-field views-field-field-case-type\">\n <span class=\"views-label views-label-field-case-type\">\n  Case Type\n </span>\n <span class=\"field-content\">\n  Criminal Conviction\n </span>\n</span>\n<span class=\"views-field views-field-field-fraud-type\">\n <span class=\"views-label views-label-field-fraud-type\">\n  Fraud Type\n </span>\n <span class=\"field-content\">\n  Fraudulent Use Of Absentee Ballots\n </span>\n</span>\n<span class=\"views-field views-field-field-outcome-of-case\">\n <span class=\"views-label views-label-field-outcome-of-case\">\n  Details\n </span>\n <span class=\"field-content\">\n  <p>\n   Gay Nell Tinker, a former circuit clerk for Hale County, pleaded guilty to multiple counts of absentee ballot fraud after her scheme to orchestrate fraudulent absentee ballots for the benefit of multiple candidates was uncovered. She admitted to falsifying the ballots of five voters to benefit certain candidates, including her brother, Circuit Court Judge Marvin Wiggins, and her husband, Senator Bobby Singleton (D_Greensboro).\n  </p>\n </span>\n</span>\n<span>\n Source:\n</span>\n<span class=\"views-field views-field-field-fraud-state-administrative-area\">\n <span class=\"views-label views-label-field-fraud-state-administrative-area\">\n  State\n </span>\n <span class=\"field-content\">\n  Alabama\n </span>\n</span>\n<span class=\"views-field views-field-field-year-of-disposition\">\n <span class=\"views-label views-label-field-year-of-disposition\">\n  Year\n </span>\n <span class=\"field-content\">\n  2009\n </span>\n</span>\n<span class=\"views-field views-field-name\">\n <span class=\"views-label views-label-name\">\n  Name\n </span>\n <span class=\"field-content\">\n  Valada Paige Banks and Rosie Lyles\n </span>\n</span>\n<span class=\"views-field views-field-field-case-type\">\n <span class=\"views-label views-label-field-case-type\">\n  Case Type\n </span>\n <span class=\"field-content\">\n  Criminal Conviction\n </span>\n</span>\n<span class=\"views-field views-field-field-fraud-type\">\n <span class=\"views-label views-label-field-fraud-type\">\n  Fraud Type\n </span>\n <span class=\"field-content\">\n  Fraudulent Use Of Absentee Ballots\n </span>\n</span>\n<span class=\"views-field views-field-field-outcome-of-case\">\n <span class=\"views-label views-label-field-outcome-of-case\">\n  Details\n </span>\n <span class=\"field-content\">\n  <p>\n   Valada Paige Banks and Rosie Lyles pleaded guilty to third-degree possession of a forged affidavit of an absentee ballot with intent to defraud. They both received 12-month suspended sentences and two years of probation and were ordered to pay court fees.\n  </p>\n </span>\n</span>\n<span>\n Source:\n</span>\n<span class=\"views-field views-field-field-fraud-state-administrative-area\">\n <span class=\"views-label views-label-field-fraud-state-administrative-area\">\n  State\n </span>\n <span class=\"field-content\">\n  Alabama\n </span>\n</span>\n<span class=\"views-field views-field-field-year-of-disposition\">\n <span class=\"views-label views-label-field-year-of-disposition\">\n  Year\n </span>\n <span class=\"field-content\">\n  2005\n </span>\n</span>\n<span class=\"views-field views-field-name\">\n <span class=\"views-label views-label-name\">\n  Name\n </span>\n <span class=\"field-content\">\n  Connie Tyree, Frank \"Pinto\"…\n </span>\n</span>\n<span class=\"views-field views-field-field-case-type\">\n <span class=\"views-label views-label-field-case-type\">\n  Case Type\n </span>\n <span class=\"field-content\">\n  Criminal Conviction\n </span>\n</span>\n<span class=\"views-field views-field-field-fraud-type\">\n <span class=\"views-label views-label-field-fraud-type\">\n  Fraud Type\n </span>\n <span class=\"field-content\">\n  Fraudulent Use Of Absentee Ballots\n </span>\n</span>\n<span class=\"views-field views-field-field-outcome-of-case\">\n <span class=\"views-label views-label-field-outcome-of-case\">\n  Details\n </span>\n <span class=\"field-content\">\n  <p>\n   The Birmingham Office of the U.S. Attorney and the Alabama Attorney General conducted an extensive joint investigation of absentee ballot fraud allegations in Greene County in the November 1994 election. By the end of the investigation, nine defendants pleaded guilty to voter fraud and two others were found guilty by a jury. The defendants included Greene County commissioners, officials, and employees; a racing commissioner; a member of the board of education; a Eutaw city councilman; and other community leaders. The conspiracy included using an assembly line to mass produce forged absentee ballots meant to swing elections in favor of preferred candidates.\n  </p>\n </span>\n</span>\n<span>\n Source:\n</span>\n<span class=\"views-field views-field-field-fraud-state-administrative-area\">\n <span class=\"views-label views-label-field-fraud-state-administrative-area\">\n  State\n </span>\n <span class=\"field-content\">\n  Alabama\n </span>\n</span>\n<span class=\"views-field views-field-field-year-of-disposition\">\n <span class=\"views-label views-label-field-year-of-disposition\">\n  Year\n </span>\n <span class=\"field-content\">\n  2004\n </span>\n</span>\n<span class=\"views-field views-field-name\">\n <span class=\"views-label views-label-name\">\n  Name\n </span>\n <span class=\"field-content\">\n  Shasta Nicole Crayton\n </span>\n</span>\n<span class=\"views-field views-field-field-case-type\">\n <span class=\"views-label views-label-field-case-type\">\n  Case Type\n </span>\n <span class=\"field-content\">\n  Criminal Conviction\n </span>\n</span>\n<span class=\"views-field views-field-field-fraud-type\">\n <span class=\"views-label views-label-field-fraud-type\">\n  Fraud Type\n </span>\n <span class=\"field-content\">\n  Impersonation Fraud At The Polls\n </span>\n</span>\n<span class=\"views-field views-field-field-outcome-of-case\">\n <span class=\"views-label views-label-field-outcome-of-case\">\n  Details\n </span>\n <span class=\"field-content\">\n  <p>\n   Crayton was convicted of impersonation fraud for illegally voting in her sister's name during the 2002 election. She was caught when her sister tried to vote and the poll workers at the precinct found that her name had already been marked as having voted. Crayton pleaded guilty and received a two-year prison sentence, which was reduced to time already served plus two years' probation.\n  </p>\n </span>\n</span>\n<span>\n Source:\n</span>\n<span class=\"views-field views-field-field-fraud-state-administrative-area\">\n <span class=\"views-label views-label-field-fraud-state-administrative-area\">\n  State\n </span>\n <span class=\"field-content\">\n  Alabama\n </span>\n</span>\n<span class=\"views-field views-field-field-year-of-disposition\">\n <span class=\"views-label views-label-field-year-of-disposition\">\n  Year\n </span>\n <span class=\"field-content\">\n  2004\n </span>\n</span>\n<span class=\"views-field views-field-name\">\n <span class=\"views-label views-label-name\">\n  Name\n </span>\n <span class=\"field-content\">\n  Guntersville, Alabama\n </span>\n</span>\n<span class=\"views-field views-field-field-case-type\">\n <span class=\"views-label views-label-field-case-type\">\n  Case Type\n </span>\n <span class=\"field-content\">\n  Judicial Finding\n </span>\n</span>\n<span class=\"views-field views-field-field-fraud-type\">\n <span class=\"views-label views-label-field-fraud-type\">\n  Fraud Type\n </span>\n <span class=\"field-content\">\n  Election Overturned\n </span>\n</span>\n<span class=\"views-field views-field-field-outcome-of-case\">\n <span class=\"views-label views-label-field-outcome-of-case\">\n  Details\n </span>\n <span class=\"field-content\">\n  <p>\n   The Supreme Court of Alabama overturned the mayoral election results for the City of Guntersville, Alabama after finding that absentee ballots cast without proper identification should have been excluded.\n  </p>\n </span>\n</span>\n<span>\n Source:\n</span>\n<span class=\"views-field views-field-field-fraud-state-administrative-area\">\n <span class=\"views-label views-label-field-fraud-state-administrative-area\">\n  State\n </span>\n <span class=\"field-content\">\n  Alabama\n </span>\n</span>\n<span class=\"views-field views-field-field-year-of-disposition\">\n <span class=\"views-label views-label-field-year-of-disposition\">\n  Year\n </span>\n <span class=\"field-content\">\n  2002\n </span>\n</span>\n<span class=\"views-field views-field-name\">\n <span class=\"views-label views-label-name\">\n  Name\n </span>\n <span class=\"field-content\">\n  Nathaniel Gosha and Lizzie Mae Perry\n </span>\n</span>\n<span class=\"views-field views-field-field-case-type\">\n <span class=\"views-label views-label-field-case-type\">\n  Case Type\n </span>\n <span class=\"field-content\">\n  Criminal Conviction\n </span>\n</span>\n<span class=\"views-field views-field-field-fraud-type\">\n <span class=\"views-label views-label-field-fraud-type\">\n  Fraud Type\n </span>\n <span class=\"field-content\">\n  Fraudulent Use Of Absentee Ballots\n </span>\n</span>\n<span class=\"views-field views-field-field-outcome-of-case\">\n <span class=\"views-label views-label-field-outcome-of-case\">\n  Details\n </span>\n <span class=\"field-content\">\n  <p>\n   Nathaniel Gosha was convicted of 25 counts (nine felony counts of falsifying ballots and 16 counts of second-degree possession of a forged instrument) of voter fraud for offering to sell absentee votes in Russell County. Another Russell County resident, Lizzie Mae Perry, pleaded guilty to two felony counts of falsifying absentee ballots and two misdemeanor counts of disclosing votes. Gosha was sentenced to 180 days in jail, 4.5 years of probation, and $2,600 in court fines. Perry was sentenced to 30 days in jail and 18 months' probation.\n  </p>\n </span>\n</span>\n<span>\n Source:\n</span>\n<span class=\"views-field views-field-field-fraud-state-administrative-area\">\n <span class=\"views-label views-label-field-fraud-state-administrative-area\">\n  State\n </span>\n <span class=\"field-content\">\n  Alabama\n </span>\n</span>\n<span class=\"views-field views-field-field-year-of-disposition\">\n <span class=\"views-label views-label-field-year-of-disposition\">\n  Year\n </span>\n <span class=\"field-content\">\n  2000\n </span>\n</span>\n<span class=\"views-field views-field-name\">\n <span class=\"views-label views-label-name\">\n  Name\n </span>\n <span class=\"field-content\">\n  Melvin Lightning and Aaron Evans\n </span>\n</span>\n<span class=\"views-field views-field-field-case-type\">\n <span class=\"views-label views-label-field-case-type\">\n  Case Type\n </span>\n <span class=\"field-content\">\n  Criminal Conviction\n </span>\n</span>\n<span class=\"views-field views-field-field-fraud-type\">\n <span class=\"views-label views-label-field-fraud-type\">\n  Fraud Type\n </span>\n <span class=\"field-content\">\n  Fraudulent Use Of Absentee Ballots\n </span>\n</span>\n<span class=\"views-field views-field-field-outcome-of-case\">\n <span class=\"views-label views-label-field-outcome-of-case\">\n  Details\n </span>\n <span class=\"field-content\">\n  <p>\n   Melvin Lightning pleaded guilty to illegal absentee voting. Along with Evans, Lightning forged absentee ballot request forms in the name of other voters. Upon receiving the ballots, the pair took them to the named voters and obtained their signatures on the ballot envelope without telling the voters that  they were signing an actual ballot. Lightning then completed and cast the ballots himself. He received a 12-month prison sentence, which was suspended in favor of 12 months' probation. His accomplice, Evans, was convicted in 1998 on seven counts of illegal absentee voting. He got a 10-year prison sentence, eight of which were suspended.\n  </p>\n </span>\n</span>\n<span>\n Source:\n</span>\n<span class=\"views-field views-field-field-fraud-state-administrative-area\">\n <span class=\"views-label views-label-field-fraud-state-administrative-area\">\n  State\n </span>\n <span class=\"field-content\">\n  Alabama\n </span>\n</span>\n<span class=\"views-field views-field-field-year-of-disposition\">\n <span class=\"views-label views-label-field-year-of-disposition\">\n  Year\n </span>\n <span class=\"field-content\">\n  2000\n </span>\n</span>\n<span class=\"views-field views-field-name\">\n <span class=\"views-label views-label-name\">\n  Name\n </span>\n <span class=\"field-content\">\n  Sheriff David Sutherland, Denita Lee,…\n </span>\n</span>\n<span class=\"views-field views-field-field-case-type\">\n <span class=\"views-label views-label-field-case-type\">\n  Case Type\n </span>\n <span class=\"field-content\">\n  Criminal Conviction\n </span>\n</span>\n<span class=\"views-field views-field-field-fraud-type\">\n <span class=\"views-label views-label-field-fraud-type\">\n  Fraud Type\n </span>\n <span class=\"field-content\">\n  Buying Votes, Fraudulent Use Of Absentee Ballots\n </span>\n</span>\n<span class=\"views-field views-field-field-outcome-of-case\">\n <span class=\"views-label views-label-field-outcome-of-case\">\n  Details\n </span>\n <span class=\"field-content\">\n  <p>\n   An absentee-ballot buying operation was uncovered in Winston County, Alabama, that led to the conviction of the sheriff, circuit clerk, a district judge, and several candidates for county commission and the board of education. The conspirators set out to buy absentee ballots in the 2000 Republican primary with bribes of cash, beer, and liquor. Judge Richardson pleaded guilty to a misdemeanor charge of failing to report campaign expenditures; the others pleaded guilty to felony charges stemming from the operation. Bailey was sentenced to three years' probation, plus a $1,000 fine and 250 hours of community service. Neal got three years' probation, a $2,500 fine, and 250 hours' community service. Ingram was ordered to serve a year in prison and pay a $1,000 fine. Emerson got two years' probation. Judge Richardson resigned, and received a suspended six-month prison sentence, one year probation, and a $1,000 fine.\n  </p>\n </span>\n</span>\n<span>\n Source:\n</span>\n<span class=\"views-field views-field-field-fraud-state-administrative-area\">\n <span class=\"views-label views-label-field-fraud-state-administrative-area\">\n  State\n </span>\n <span class=\"field-content\">\n  Alaska\n </span>\n</span>\n<span class=\"views-field views-field-field-year-of-disposition\">\n <span class=\"views-label views-label-field-year-of-disposition\">\n  Year\n </span>\n <span class=\"field-content\">\n  2013\n </span>\n</span>\n<span class=\"views-field views-field-name\">\n <span class=\"views-label views-label-name\">\n  Name\n </span>\n <span class=\"field-content\">\n  Deborah Carroll\n </span>\n</span>\n<span class=\"views-field views-field-field-case-type\">\n <span class=\"views-label views-label-field-case-type\">\n  Case Type\n </span>\n <span class=\"field-content\">\n  Criminal Conviction\n </span>\n</span>\n<span class=\"views-field views-field-field-fraud-type\">\n <span class=\"views-label views-label-field-fraud-type\">\n  Fraud Type\n </span>\n <span class=\"field-content\">\n  Ballot Petition Fraud\n </span>\n</span>\n<span class=\"views-field views-field-field-outcome-of-case\">\n <span class=\"views-label views-label-field-outcome-of-case\">\n  Details\n </span>\n <span class=\"field-content\">\n  <p>\n   Deborah Carroll pleaded guilty to one felony count of forging signatures on an initiative petition to re-establish a coastal zone management program. One of the initiative's sponsors noticed inconsistencies with the signatures Carroll had collected and reported the matter to the authorities. Carroll was sentenced to serve two years in jail followed by three years' probation.\n  </p>\n </span>\n</span>\n<span>\n Source:\n</span>\n<span class=\"visually-hidden\">\n Current page\n</span>\n<span class=\"visually-hidden\">\n Page\n</span>\n<span class=\"visually-hidden\">\n Page\n</span>\n<span class=\"visually-hidden\">\n Page\n</span>\n<span class=\"visually-hidden\">\n Page\n</span>\n<span class=\"visually-hidden\">\n Page\n</span>\n<span class=\"visually-hidden\">\n Page\n</span>\n<span class=\"visually-hidden\">\n Page\n</span>\n<span class=\"visually-hidden\">\n Page\n</span>\n<span class=\"visually-hidden\">\n Next page\n</span>\n<span aria-hidden=\"true\">\n Next\n</span>\n<span class=\"visually-hidden\">\n Last page\n</span>\n<span aria-hidden=\"true\">\n Last\n</span>\n<span class=\"field-content\">\n Criminal Conviction\n</span>\n<span class=\"field-content\">\n <p>\n  Any case that results in a defendant entering a plea of guilty or no contest, or being found guilty in court of election-related offenses.\n </p>\n</span>\n<span class=\"field-content\">\n Judicial Finding\n</span>\n<span class=\"field-content\">\n <p>\n  A finding by a court of law that fraud occurred in an election, including judicial orders overturning election results or ordering a new election due to fraud.\n </p>\n</span>\n<span class=\"field-content\">\n Civil Penalty\n</span>\n<span class=\"field-content\">\n <p>\n  Any civil case resulting in fines or other penalties imposed for a violation of election laws.\n </p>\n</span>\n<span class=\"field-content\">\n Official Finding\n</span>\n<span class=\"field-content\">\n <p>\n  A finding by a government body that fraud occurred in an election, including orders overturning election results or ordering a new election due to fraud.\n </p>\n</span>\n<span class=\"field-content\">\n Diversion Program\n</span>\n<span class=\"field-content\">\n <p>\n  Any criminal case in which a judge directs a defendant into a pre-trial diversion program, or stays or defers adjudication with the understanding that the conviction will be cleared upon completion of the program.\n </p>\n</span>\n<span class=\"field-content\">\n Fraudulent Use Of Absentee Ballots\n</span>\n<span class=\"field-content\">\n <p>\n  Requesting absentee ballots and voting without the knowledge of the actual voter; or obtaining the absentee ballot from a voter and either filling it in directly and forging the voter’s signature or illegally telling the voter who to vote for.\n </p>\n</span>\n<span class=\"field-content\">\n Ineligible Voting\n</span>\n<span class=\"field-content\">\n <p>\n  Illegal registration and voting by individuals who are not U.S. citizens, are convicted felons, or are otherwise not eligible to vote.\n </p>\n</span>\n<span class=\"field-content\">\n Impersonation Fraud At The Polls\n</span>\n<span class=\"field-content\">\n <p>\n  Voting in the name of other legitimate voters and voters who have died, moved away, or lost their right to vote because they are felons, but remain registered.\n </p>\n</span>\n<span class=\"field-content\">\n Buying Votes\n</span>\n<span class=\"field-content\">\n <p>\n  Paying voters to cast either an in-person or absentee ballot for a particular candidate.\n </p>\n</span>\n<span class=\"field-content\">\n Ballot Petition Fraud\n</span>\n<span class=\"field-content\">\n <p>\n  Forging the signatures of registered voters on the ballot petitions that must be filed with election officials in some states for a candidate or issue to be listed on the official ballot\n </p>\n</span>\n<span class=\"field-content\">\n Duplicate Voting\n</span>\n<span class=\"field-content\">\n <p>\n  Registering in multiple locations and voting in the same election in more than one jurisdiction or state.\n </p>\n</span>\n<span class=\"field-content\">\n False Registrations\n</span>\n<span class=\"field-content\">\n <p>\n  Voting under fraudulent voter registrations that either use a phony name and a real or fake address or claim residence in a particular jurisdiction where the registered voter does not actually live and is not entitled to vote.\n </p>\n</span>\n<span class=\"field-content\">\n Altering The Vote Count\n</span>\n<span class=\"field-content\">\n <p>\n  Changing the actual vote count either in a precinct or at the central location where votes are counted.\n </p>\n</span>\n<span class=\"field-content\">\n Illegal \"Assistance\" At The Polls\n</span>\n<span class=\"field-content\">\n <p>\n  Forcing or intimidating voters—particularly the elderly, disabled, illiterate, and those for whom English is a second language—to vote for particular candidates while supposedly providing them with “assistance.”\n </p>\n</span>\n<span>\n <a class=\"global-footer__privacy-copyright-link\" href=\"https://www.heritage.org/article/privacy-policy\" title=\"Heritage privacy policy\">\n  Privacy Policy\n </a>\n</span>\n<span>\n <a class=\"global-footer__privacy-copyright-link\" href=\"https://www.heritage.org/article/copyright-notice\" title=\"Heritage copyright\">\n  Copyright\n </a>\n</span>\n"
    }
   ],
   "source": [
    "only_spans = SoupStrainer('span')\n",
    "span_soup = BeautifulSoup(htmls[0], parse_only=only_spans)\n",
    "print(span_soup.prettify())"
   ]
  },
  {
   "cell_type": "code",
   "execution_count": 337,
   "metadata": {},
   "outputs": [
    {
     "data": {
      "text/plain": [
       "[<span class=\"field-content\"><a href=\"/agriculture\" hreflang=\"en\">Agriculture</a></span>,\n",
       " <span class=\"field-content\"><a href=\"/education\" hreflang=\"en\">Education</a></span>,\n",
       " <span class=\"field-content\"><a href=\"/government-regulation\" hreflang=\"en\">Government Regulation</a></span>,\n",
       " <span class=\"field-content\"><a href=\"/housing\" hreflang=\"en\">Housing</a></span>,\n",
       " <span class=\"field-content\"><a href=\"/american-founders\" hreflang=\"en\">American Founders</a></span>,\n",
       " <span class=\"field-content\"><a href=\"/conservatism\" hreflang=\"en\">Conservatism</a></span>,\n",
       " <span class=\"field-content\"><a href=\"/progressivism\" hreflang=\"en\">Progressivism</a></span>,\n",
       " <span class=\"field-content\"><a href=\"/public-opinion\" hreflang=\"en\">Public Opinion</a></span>,\n",
       " <span class=\"field-content\"><a href=\"/asia\" hreflang=\"en\">Asia</a></span>,\n",
       " <span class=\"field-content\"><a href=\"/europe\" hreflang=\"en\">Europe</a></span>,\n",
       " <span class=\"field-content\"><a href=\"/global-politics\" hreflang=\"en\">Global Politics</a></span>,\n",
       " <span class=\"field-content\"><a href=\"/middle-east\" hreflang=\"en\">Middle East</a></span>,\n",
       " <span class=\"field-content\"><a href=\"/budget-and-spending\" hreflang=\"en\">Budget and Spending</a></span>,\n",
       " <span class=\"field-content\"><a href=\"/debt\" hreflang=\"en\">Debt</a></span>,\n",
       " <span class=\"field-content\"><a href=\"/social-security\" hreflang=\"en\">Social Security</a></span>,\n",
       " <span class=\"field-content\"><a href=\"/coal-oil-natural-gas\" hreflang=\"en\">Coal, Oil, Natural Gas</a></span>,\n",
       " <span class=\"field-content\"><a href=\"/energy-economics\" hreflang=\"en\">Energy Economics</a></span>,\n",
       " <span class=\"field-content\"><a href=\"/nuclear-energy\" hreflang=\"en\">Nuclear Energy</a></span>,\n",
       " <span class=\"field-content\"><a href=\"/renewable-energy\" hreflang=\"en\">Renewable Energy</a></span>,\n",
       " <span class=\"field-content\"><a href=\"/courts\" hreflang=\"en\">Courts</a></span>,\n",
       " <span class=\"field-content\"><a href=\"/crime-and-justice\" hreflang=\"en\">Crime and Justice</a></span>,\n",
       " <span class=\"field-content\"><a href=\"/election-integrity\" hreflang=\"en\">Election Integrity</a></span>,\n",
       " <span class=\"field-content\"><a href=\"/the-constitution\" hreflang=\"en\">The Constitution</a></span>,\n",
       " <span class=\"field-content\"><a href=\"/cybersecurity\" hreflang=\"en\">Cybersecurity</a></span>,\n",
       " <span class=\"field-content\"><a href=\"/space-policy\" hreflang=\"en\">Space Policy</a></span>,\n",
       " <span class=\"field-content\"><a href=\"/technology\" hreflang=\"en\">Technology</a></span>,\n",
       " <span class=\"field-content\"><a href=\"/transportation\" hreflang=\"en\">Transportation</a></span>,\n",
       " <span class=\"field-content\"><a href=\"/defense\" hreflang=\"en\">Defense</a></span>,\n",
       " <span class=\"field-content\"><a href=\"/homeland-security\" hreflang=\"en\">Homeland Security</a></span>,\n",
       " <span class=\"field-content\"><a href=\"/immigration\" hreflang=\"en\">Immigration</a></span>,\n",
       " <span class=\"field-content\"><a href=\"/terrorism\" hreflang=\"en\">Terrorism</a></span>,\n",
       " <span class=\"field-content\"><a href=\"/gender\" hreflang=\"en\">Gender</a></span>,\n",
       " <span class=\"field-content\"><a href=\"/life\" hreflang=\"en\">Life</a></span>,\n",
       " <span class=\"field-content\"><a href=\"/marriage-and-family\" hreflang=\"en\">Marriage and Family</a></span>,\n",
       " <span class=\"field-content\"><a href=\"/religious-liberty\" hreflang=\"en\">Religious Liberty</a></span>,\n",
       " <span class=\"field-content\"><a href=\"/health-care-reform\" hreflang=\"en\">Health Care Reform</a></span>,\n",
       " <span class=\"field-content\"><a href=\"/medicaid\" hreflang=\"en\">Medicaid</a></span>,\n",
       " <span class=\"field-content\"><a href=\"/medicare\" hreflang=\"en\">Medicare</a></span>,\n",
       " <span class=\"field-content\"><a href=\"/public-health\" hreflang=\"en\">Public Health</a></span>,\n",
       " <span class=\"field-content\"><a href=\"/hunger-and-food-programs\" hreflang=\"en\">Hunger and Food Programs</a></span>,\n",
       " <span class=\"field-content\"><a href=\"/poverty-and-inequality\" hreflang=\"en\">Poverty and Inequality</a></span>,\n",
       " <span class=\"field-content\"><a href=\"/welfare\" hreflang=\"en\">Welfare</a></span>,\n",
       " <span class=\"field-content\"><a href=\"/international-economies\" hreflang=\"en\">International Economies</a></span>,\n",
       " <span class=\"field-content\"><a href=\"/markets-and-finance\" hreflang=\"en\">Markets and Finance</a></span>,\n",
       " <span class=\"field-content\"><a href=\"/taxes\" hreflang=\"en\">Taxes</a></span>,\n",
       " <span class=\"field-content\"><a href=\"/trade\" hreflang=\"en\">Trade</a></span>,\n",
       " <span class=\"field-content\">Alabama</span>,\n",
       " <span class=\"field-content\">2016</span>,\n",
       " <span class=\"field-content\">Daniel W. Reynolds</span>,\n",
       " <span class=\"field-content\">Criminal Conviction</span>,\n",
       " <span class=\"field-content\">Fraudulent Use Of Absentee Ballots</span>,\n",
       " <span class=\"field-content\"><p>Daniel W. Reynolds pleaded guilty to three counts of absentee ballot fraud and was sentenced to two years' probation. Reynolds, the chief campaign volunteer for Commissioner Amos Newsome, participated in falsifying absentee ballots in the Dothan District 2 election between Newsome and his rival Lamesa Danzey in the summer of 2013.</p>\n",
       " </span>,\n",
       " <span class=\"field-content\">Alabama</span>,\n",
       " <span class=\"field-content\">2015</span>,\n",
       " <span class=\"field-content\">Janice Lee Hart</span>,\n",
       " <span class=\"field-content\">Criminal Conviction</span>,\n",
       " <span class=\"field-content\">Fraudulent Use Of Absentee Ballots</span>,\n",
       " <span class=\"field-content\"><p>Janice Lee Hart pleaded guilty to eight misdemeanor counts of attempted absentee ballot fraud in connection with misconduct while working on the 2013 campaign for District 2 City Commissioner Amos Newsome. Prosecutors charged that Hart was not present when absentee ballots were signed even though she was listed as a witness on the ballots. In the election, Newsome defeated his challenger by only 14 votes and received 119 out of the 124 absentee ballots cast. A judge sentenced Hart to 12 months in the county jail for each count, which he suspended to two years of probation for each count.</p>\n",
       " </span>,\n",
       " <span class=\"field-content\">Alabama</span>,\n",
       " <span class=\"field-content\">2015</span>,\n",
       " <span class=\"field-content\">Lesa Coleman</span>,\n",
       " <span class=\"field-content\">Criminal Conviction</span>,\n",
       " <span class=\"field-content\">Fraudulent Use Of Absentee Ballots</span>,\n",
       " <span class=\"field-content\"><p>A Houston County jury found Lesa Coleman guilty of seven felony counts of absentee ballot fraud related to the 2013 election for a city commission seat. Coleman received a three year split sentence. She will serve 180 days in jail followed by three years of probation.</p>\n",
       " </span>,\n",
       " <span class=\"field-content\">Alabama</span>,\n",
       " <span class=\"field-content\">2015</span>,\n",
       " <span class=\"field-content\">Olivia Lee Reynolds</span>,\n",
       " <span class=\"field-content\">Criminal Conviction</span>,\n",
       " <span class=\"field-content\">Fraudulent Use Of Absentee Ballots</span>,\n",
       " <span class=\"field-content\"><p>Olivia Lee Reynolds was convicted of 24 counts of voter fraud. While working on the 2013 campaign for her boyfriend, Dothan City Commissioner Amos Newsome, Reynolds filled out voters' ballots for them and told others for whom to vote. Her fraud had definite consequences:  Commissioner Newsome won reelection by a mere 14 votes, losing the in-person vote by a wide margin but winning an incredible 96 percent of the absentee vote. Newsome himself faced pressure to resign as a consequence. Reynolds was sentenced to serve six months in a community corrections facility. She is appealing the conviction.</p>\n",
       " </span>,\n",
       " <span class=\"field-content\">Alabama</span>,\n",
       " <span class=\"field-content\">2012</span>,\n",
       " <span class=\"field-content\">Venustiano Hernandez-Hernandez</span>,\n",
       " <span class=\"field-content\">Criminal Conviction</span>,\n",
       " <span class=\"field-content\">Ineligible Voting</span>,\n",
       " <span class=\"field-content\"><p>Venustiano Hernandez-Hernandez, an illegal immigrant, registered to vote under the name Severo Benavidez in 1984 and voted in the 1996 and 2008 general elections, the 2002 primary election, and special elections in 2003 and 2009. After being deported in 1974, he obtained a false birth certificate, which he used to collect Social Security disability benefits and register to vote. As part of a plea deal, Hernandez-Hernandez admitted to having committed all of the charged conduct, and pleaded guilty to social security fraud and theft of public money (the voter fraud charges were dropped in exchange for his plea to the other charges). Prosecutors surmised that Hernandez-Hernandez received approximately $80,000 in disability payments between 2008 and 2012. As a result of his stolen identity, the real Severo Benevidez was denied Social Security payments. Hernandez-Hernandez was scheduled to be sentenced on December 17, 2012.</p>\n",
       " </span>,\n",
       " <span class=\"field-content\">Alabama</span>,\n",
       " <span class=\"field-content\">2010</span>,\n",
       " <span class=\"field-content\">Karen Tipton Berry</span>,\n",
       " <span class=\"field-content\">Criminal Conviction</span>,\n",
       " <span class=\"field-content\">Fraudulent Use Of Absentee Ballots</span>,\n",
       " <span class=\"field-content\"><p>Ms. Berry pleaded guilty and received a two-year suspended sentence. The former Pike County Commissioner narrowly won--and then lost--her 2008 reelection bid when 10 absentee ballots were found to have been fraudulently cast in the election. Ms. Berry was charged with mailing an illegal absentee ballot.</p>\n",
       " </span>,\n",
       " <span class=\"field-content\">Alabama</span>,\n",
       " <span class=\"field-content\">2010</span>,\n",
       " <span class=\"field-content\">Gay Nell Tinker</span>,\n",
       " <span class=\"field-content\">Criminal Conviction</span>,\n",
       " <span class=\"field-content\">Fraudulent Use Of Absentee Ballots</span>,\n",
       " <span class=\"field-content\"><p>Gay Nell Tinker, a former circuit clerk for Hale County, pleaded guilty to multiple counts of absentee ballot fraud after her scheme to orchestrate fraudulent absentee ballots for the benefit of multiple candidates was uncovered. She admitted to falsifying the ballots of five voters to benefit certain candidates, including her brother, Circuit Court Judge Marvin Wiggins, and her husband, Senator Bobby Singleton (D_Greensboro).</p>\n",
       " </span>,\n",
       " <span class=\"field-content\">Alabama</span>,\n",
       " <span class=\"field-content\">2009</span>,\n",
       " <span class=\"field-content\">Valada Paige Banks and Rosie Lyles</span>,\n",
       " <span class=\"field-content\">Criminal Conviction</span>,\n",
       " <span class=\"field-content\">Fraudulent Use Of Absentee Ballots</span>,\n",
       " <span class=\"field-content\"><p>Valada Paige Banks and Rosie Lyles pleaded guilty to third-degree possession of a forged affidavit of an absentee ballot with intent to defraud. They both received 12-month suspended sentences and two years of probation and were ordered to pay court fees.</p>\n",
       " </span>,\n",
       " <span class=\"field-content\">Alabama</span>,\n",
       " <span class=\"field-content\">2005</span>,\n",
       " <span class=\"field-content\">Connie Tyree, Frank \"Pinto\"…</span>,\n",
       " <span class=\"field-content\">Criminal Conviction</span>,\n",
       " <span class=\"field-content\">Fraudulent Use Of Absentee Ballots</span>,\n",
       " <span class=\"field-content\"><p>The Birmingham Office of the U.S. Attorney and the Alabama Attorney General conducted an extensive joint investigation of absentee ballot fraud allegations in Greene County in the November 1994 election. By the end of the investigation, nine defendants pleaded guilty to voter fraud and two others were found guilty by a jury. The defendants included Greene County commissioners, officials, and employees; a racing commissioner; a member of the board of education; a Eutaw city councilman; and other community leaders. The conspiracy included using an assembly line to mass produce forged absentee ballots meant to swing elections in favor of preferred candidates.</p>\n",
       " </span>,\n",
       " <span class=\"field-content\">Alabama</span>,\n",
       " <span class=\"field-content\">2004</span>,\n",
       " <span class=\"field-content\">Shasta Nicole Crayton</span>,\n",
       " <span class=\"field-content\">Criminal Conviction</span>,\n",
       " <span class=\"field-content\">Impersonation Fraud At The Polls</span>,\n",
       " <span class=\"field-content\"><p>Crayton was convicted of impersonation fraud for illegally voting in her sister's name during the 2002 election. She was caught when her sister tried to vote and the poll workers at the precinct found that her name had already been marked as having voted. Crayton pleaded guilty and received a two-year prison sentence, which was reduced to time already served plus two years' probation.</p>\n",
       " </span>,\n",
       " <span class=\"field-content\">Alabama</span>,\n",
       " <span class=\"field-content\">2004</span>,\n",
       " <span class=\"field-content\">Guntersville, Alabama</span>,\n",
       " <span class=\"field-content\">Judicial Finding</span>,\n",
       " <span class=\"field-content\">Election Overturned</span>,\n",
       " <span class=\"field-content\"><p>The Supreme Court of Alabama overturned the mayoral election results for the City of Guntersville, Alabama after finding that absentee ballots cast without proper identification should have been excluded.</p>\n",
       " </span>,\n",
       " <span class=\"field-content\">Alabama</span>,\n",
       " <span class=\"field-content\">2002</span>,\n",
       " <span class=\"field-content\">Nathaniel Gosha and Lizzie Mae Perry</span>,\n",
       " <span class=\"field-content\">Criminal Conviction</span>,\n",
       " <span class=\"field-content\">Fraudulent Use Of Absentee Ballots</span>,\n",
       " <span class=\"field-content\"><p>Nathaniel Gosha was convicted of 25 counts (nine felony counts of falsifying ballots and 16 counts of second-degree possession of a forged instrument) of voter fraud for offering to sell absentee votes in Russell County. Another Russell County resident, Lizzie Mae Perry, pleaded guilty to two felony counts of falsifying absentee ballots and two misdemeanor counts of disclosing votes. Gosha was sentenced to 180 days in jail, 4.5 years of probation, and $2,600 in court fines. Perry was sentenced to 30 days in jail and 18 months' probation.</p>\n",
       " </span>,\n",
       " <span class=\"field-content\">Alabama</span>,\n",
       " <span class=\"field-content\">2000</span>,\n",
       " <span class=\"field-content\">Melvin Lightning and Aaron Evans</span>,\n",
       " <span class=\"field-content\">Criminal Conviction</span>,\n",
       " <span class=\"field-content\">Fraudulent Use Of Absentee Ballots</span>,\n",
       " <span class=\"field-content\"><p>Melvin Lightning pleaded guilty to illegal absentee voting. Along with Evans, Lightning forged absentee ballot request forms in the name of other voters. Upon receiving the ballots, the pair took them to the named voters and obtained their signatures on the ballot envelope without telling the voters that  they were signing an actual ballot. Lightning then completed and cast the ballots himself. He received a 12-month prison sentence, which was suspended in favor of 12 months' probation. His accomplice, Evans, was convicted in 1998 on seven counts of illegal absentee voting. He got a 10-year prison sentence, eight of which were suspended.</p>\n",
       " </span>,\n",
       " <span class=\"field-content\">Alabama</span>,\n",
       " <span class=\"field-content\">2000</span>,\n",
       " <span class=\"field-content\">Sheriff David Sutherland, Denita Lee,…</span>,\n",
       " <span class=\"field-content\">Criminal Conviction</span>,\n",
       " <span class=\"field-content\">Buying Votes, Fraudulent Use Of Absentee Ballots</span>,\n",
       " <span class=\"field-content\"><p>An absentee-ballot buying operation was uncovered in Winston County, Alabama, that led to the conviction of the sheriff, circuit clerk, a district judge, and several candidates for county commission and the board of education. The conspirators set out to buy absentee ballots in the 2000 Republican primary with bribes of cash, beer, and liquor. Judge Richardson pleaded guilty to a misdemeanor charge of failing to report campaign expenditures; the others pleaded guilty to felony charges stemming from the operation. Bailey was sentenced to three years' probation, plus a $1,000 fine and 250 hours of community service. Neal got three years' probation, a $2,500 fine, and 250 hours' community service. Ingram was ordered to serve a year in prison and pay a $1,000 fine. Emerson got two years' probation. Judge Richardson resigned, and received a suspended six-month prison sentence, one year probation, and a $1,000 fine.</p>\n",
       " </span>,\n",
       " <span class=\"field-content\">Alaska</span>,\n",
       " <span class=\"field-content\">2013</span>,\n",
       " <span class=\"field-content\">Deborah Carroll</span>,\n",
       " <span class=\"field-content\">Criminal Conviction</span>,\n",
       " <span class=\"field-content\">Ballot Petition Fraud</span>,\n",
       " <span class=\"field-content\"><p>Deborah Carroll pleaded guilty to one felony count of forging signatures on an initiative petition to re-establish a coastal zone management program. One of the initiative's sponsors noticed inconsistencies with the signatures Carroll had collected and reported the matter to the authorities. Carroll was sentenced to serve two years in jail followed by three years' probation.</p>\n",
       " </span>,\n",
       " <span class=\"field-content\">Criminal Conviction</span>,\n",
       " <span class=\"field-content\"><p>Any case that results in a defendant entering a plea of guilty or no contest, or being found guilty in court of election-related offenses.</p>\n",
       " </span>,\n",
       " <span class=\"field-content\">Judicial Finding</span>,\n",
       " <span class=\"field-content\"><p>A finding by a court of law that fraud occurred in an election, including judicial orders overturning election results or ordering a new election due to fraud.</p>\n",
       " </span>,\n",
       " <span class=\"field-content\">Civil Penalty</span>,\n",
       " <span class=\"field-content\"><p>Any civil case resulting in fines or other penalties imposed for a violation of election laws.</p>\n",
       " </span>,\n",
       " <span class=\"field-content\">Official Finding</span>,\n",
       " <span class=\"field-content\"><p>A finding by a government body that fraud occurred in an election, including orders overturning election results or ordering a new election due to fraud.</p>\n",
       " </span>,\n",
       " <span class=\"field-content\">Diversion Program</span>,\n",
       " <span class=\"field-content\"><p>Any criminal case in which a judge directs a defendant into a pre-trial diversion program, or stays or defers adjudication with the understanding that the conviction will be cleared upon completion of the program.</p>\n",
       " </span>,\n",
       " <span class=\"field-content\">Fraudulent Use Of Absentee Ballots</span>,\n",
       " <span class=\"field-content\"><p>Requesting absentee ballots and voting without the knowledge of the actual voter; or obtaining the absentee ballot from a voter and either filling it in directly and forging the voter’s signature or illegally telling the voter who to vote for.</p>\n",
       " </span>,\n",
       " <span class=\"field-content\">Ineligible Voting</span>,\n",
       " <span class=\"field-content\"><p>Illegal registration and voting by individuals who are not U.S. citizens, are convicted felons, or are otherwise not eligible to vote.</p>\n",
       " </span>,\n",
       " <span class=\"field-content\">Impersonation Fraud At The Polls</span>,\n",
       " <span class=\"field-content\"><p>Voting in the name of other legitimate voters and voters who have died, moved away, or lost their right to vote because they are felons, but remain registered.</p>\n",
       " </span>,\n",
       " <span class=\"field-content\">Buying Votes</span>,\n",
       " <span class=\"field-content\"><p>Paying voters to cast either an in-person or absentee ballot for a particular candidate.</p>\n",
       " </span>,\n",
       " <span class=\"field-content\">Ballot Petition Fraud</span>,\n",
       " <span class=\"field-content\"><p>Forging the signatures of registered voters on the ballot petitions that must be filed with election officials in some states for a candidate or issue to be listed on the official ballot</p>\n",
       " </span>,\n",
       " <span class=\"field-content\">Duplicate Voting</span>,\n",
       " <span class=\"field-content\"><p>Registering in multiple locations and voting in the same election in more than one jurisdiction or state.</p>\n",
       " </span>,\n",
       " <span class=\"field-content\">False Registrations</span>,\n",
       " <span class=\"field-content\"><p>Voting under fraudulent voter registrations that either use a phony name and a real or fake address or claim residence in a particular jurisdiction where the registered voter does not actually live and is not entitled to vote.</p>\n",
       " </span>,\n",
       " <span class=\"field-content\">Altering The Vote Count</span>,\n",
       " <span class=\"field-content\"><p>Changing the actual vote count either in a precinct or at the central location where votes are counted.</p>\n",
       " </span>,\n",
       " <span class=\"field-content\">Illegal \"Assistance\" At The Polls</span>,\n",
       " <span class=\"field-content\"><p>Forcing or intimidating voters—particularly the elderly, disabled, illiterate, and those for whom English is a second language—to vote for particular candidates while supposedly providing them with “assistance.”</p>\n",
       " </span>]"
      ]
     },
     "execution_count": 337,
     "metadata": {},
     "output_type": "execute_result"
    }
   ],
   "source": [
    "field_contents = span_soup.find_all(class_='field-content')\n",
    "field_contents"
   ]
  },
  {
   "cell_type": "code",
   "execution_count": 338,
   "metadata": {},
   "outputs": [],
   "source": [
    "tag_strings = []\n",
    "for tag in field_contents:\n",
    "    child = tag.findChild()\n",
    "    if child:\n",
    "        if child.name == 'p': \n",
    "            tag_strings.append(child.string)\n",
    "    else:\n",
    "        tag_strings.append(tag.string)"
   ]
  },
  {
   "cell_type": "code",
   "execution_count": 339,
   "metadata": {},
   "outputs": [
    {
     "data": {
      "text/plain": [
       "['Alabama',\n",
       " '2016',\n",
       " 'Daniel W. Reynolds',\n",
       " 'Criminal Conviction',\n",
       " 'Fraudulent Use Of Absentee Ballots',\n",
       " \"Daniel W. Reynolds pleaded guilty to three counts of absentee ballot fraud and was sentenced to two years' probation. Reynolds, the chief campaign volunteer for Commissioner Amos Newsome, participated in falsifying absentee ballots in the Dothan District 2 election between Newsome and his rival Lamesa Danzey in the summer of 2013.\",\n",
       " 'Alabama',\n",
       " '2015',\n",
       " 'Janice Lee Hart',\n",
       " 'Criminal Conviction',\n",
       " 'Fraudulent Use Of Absentee Ballots',\n",
       " 'Janice Lee Hart pleaded guilty to eight misdemeanor counts of attempted absentee ballot fraud in connection with misconduct while working on the 2013 campaign for District 2 City Commissioner Amos Newsome. Prosecutors charged that Hart was not present when absentee ballots were signed even though she was listed as a witness on the ballots. In the election, Newsome defeated his challenger by only 14 votes and received 119 out of the 124 absentee ballots cast. A judge sentenced Hart to 12 months in the county jail for each count, which he suspended to two years of probation for each count.',\n",
       " 'Alabama',\n",
       " '2015',\n",
       " 'Lesa Coleman',\n",
       " 'Criminal Conviction',\n",
       " 'Fraudulent Use Of Absentee Ballots',\n",
       " 'A Houston County jury found Lesa Coleman guilty of seven felony counts of absentee ballot fraud related to the 2013 election for a city commission seat. Coleman received a three year split sentence. She will serve 180 days in jail followed by three years of probation.',\n",
       " 'Alabama',\n",
       " '2015',\n",
       " 'Olivia Lee Reynolds',\n",
       " 'Criminal Conviction',\n",
       " 'Fraudulent Use Of Absentee Ballots',\n",
       " \"Olivia Lee Reynolds was convicted of 24 counts of voter fraud. While working on the 2013 campaign for her boyfriend, Dothan City Commissioner Amos Newsome, Reynolds filled out voters' ballots for them and told others for whom to vote. Her fraud had definite consequences:  Commissioner Newsome won reelection by a mere 14 votes, losing the in-person vote by a wide margin but winning an incredible 96 percent of the absentee vote. Newsome himself faced pressure to resign as a consequence. Reynolds was sentenced to serve six months in a community corrections facility. She is appealing the conviction.\",\n",
       " 'Alabama',\n",
       " '2012',\n",
       " 'Venustiano Hernandez-Hernandez',\n",
       " 'Criminal Conviction',\n",
       " 'Ineligible Voting',\n",
       " 'Venustiano Hernandez-Hernandez, an illegal immigrant, registered to vote under the name Severo Benavidez in 1984 and voted in the 1996 and 2008 general elections, the 2002 primary election, and special elections in 2003 and 2009. After being deported in 1974, he obtained a false birth certificate, which he used to collect Social Security disability benefits and register to vote. As part of a plea deal, Hernandez-Hernandez admitted to having committed all of the charged conduct, and pleaded guilty to social security fraud and theft of public money (the voter fraud charges were dropped in exchange for his plea to the other charges). Prosecutors surmised that Hernandez-Hernandez received approximately $80,000 in disability payments between 2008 and 2012. As a result of his stolen identity, the real Severo Benevidez was denied Social Security payments. Hernandez-Hernandez was scheduled to be sentenced on December 17, 2012.',\n",
       " 'Alabama',\n",
       " '2010',\n",
       " 'Karen Tipton Berry',\n",
       " 'Criminal Conviction',\n",
       " 'Fraudulent Use Of Absentee Ballots',\n",
       " 'Ms. Berry pleaded guilty and received a two-year suspended sentence. The former Pike County Commissioner narrowly won--and then lost--her 2008 reelection bid when 10 absentee ballots were found to have been fraudulently cast in the election. Ms. Berry was charged with mailing an illegal absentee ballot.',\n",
       " 'Alabama',\n",
       " '2010',\n",
       " 'Gay Nell Tinker',\n",
       " 'Criminal Conviction',\n",
       " 'Fraudulent Use Of Absentee Ballots',\n",
       " 'Gay Nell Tinker, a former circuit clerk for Hale County, pleaded guilty to multiple counts of absentee ballot fraud after her scheme to orchestrate fraudulent absentee ballots for the benefit of multiple candidates was uncovered. She admitted to falsifying the ballots of five voters to benefit certain candidates, including her brother, Circuit Court Judge Marvin Wiggins, and her husband, Senator Bobby Singleton (D_Greensboro).',\n",
       " 'Alabama',\n",
       " '2009',\n",
       " 'Valada Paige Banks and Rosie Lyles',\n",
       " 'Criminal Conviction',\n",
       " 'Fraudulent Use Of Absentee Ballots',\n",
       " 'Valada Paige Banks and Rosie Lyles pleaded guilty to third-degree possession of a forged affidavit of an absentee ballot with intent to defraud. They both received 12-month suspended sentences and two years of probation and were ordered to pay court fees.',\n",
       " 'Alabama',\n",
       " '2005',\n",
       " 'Connie Tyree, Frank \"Pinto\"…',\n",
       " 'Criminal Conviction',\n",
       " 'Fraudulent Use Of Absentee Ballots',\n",
       " 'The Birmingham Office of the U.S. Attorney and the Alabama Attorney General conducted an extensive joint investigation of absentee ballot fraud allegations in Greene County in the November 1994 election. By the end of the investigation, nine defendants pleaded guilty to voter fraud and two others were found guilty by a jury. The defendants included Greene County commissioners, officials, and employees; a racing commissioner; a member of the board of education; a Eutaw city councilman; and other community leaders. The conspiracy included using an assembly line to mass produce forged absentee ballots meant to swing elections in favor of preferred candidates.',\n",
       " 'Alabama',\n",
       " '2004',\n",
       " 'Shasta Nicole Crayton',\n",
       " 'Criminal Conviction',\n",
       " 'Impersonation Fraud At The Polls',\n",
       " \"Crayton was convicted of impersonation fraud for illegally voting in her sister's name during the 2002 election. She was caught when her sister tried to vote and the poll workers at the precinct found that her name had already been marked as having voted. Crayton pleaded guilty and received a two-year prison sentence, which was reduced to time already served plus two years' probation.\",\n",
       " 'Alabama',\n",
       " '2004',\n",
       " 'Guntersville, Alabama',\n",
       " 'Judicial Finding',\n",
       " 'Election Overturned',\n",
       " 'The Supreme Court of Alabama overturned the mayoral election results for the City of Guntersville, Alabama after finding that absentee ballots cast without proper identification should have been excluded.',\n",
       " 'Alabama',\n",
       " '2002',\n",
       " 'Nathaniel Gosha and Lizzie Mae Perry',\n",
       " 'Criminal Conviction',\n",
       " 'Fraudulent Use Of Absentee Ballots',\n",
       " \"Nathaniel Gosha was convicted of 25 counts (nine felony counts of falsifying ballots and 16 counts of second-degree possession of a forged instrument) of voter fraud for offering to sell absentee votes in Russell County. Another Russell County resident, Lizzie Mae Perry, pleaded guilty to two felony counts of falsifying absentee ballots and two misdemeanor counts of disclosing votes. Gosha was sentenced to 180 days in jail, 4.5 years of probation, and $2,600 in court fines. Perry was sentenced to 30 days in jail and 18 months' probation.\",\n",
       " 'Alabama',\n",
       " '2000',\n",
       " 'Melvin Lightning and Aaron Evans',\n",
       " 'Criminal Conviction',\n",
       " 'Fraudulent Use Of Absentee Ballots',\n",
       " \"Melvin Lightning pleaded guilty to illegal absentee voting. Along with Evans, Lightning forged absentee ballot request forms in the name of other voters. Upon receiving the ballots, the pair took them to the named voters and obtained their signatures on the ballot envelope without telling the voters that  they were signing an actual ballot. Lightning then completed and cast the ballots himself. He received a 12-month prison sentence, which was suspended in favor of 12 months' probation. His accomplice, Evans, was convicted in 1998 on seven counts of illegal absentee voting. He got a 10-year prison sentence, eight of which were suspended.\",\n",
       " 'Alabama',\n",
       " '2000',\n",
       " 'Sheriff David Sutherland, Denita Lee,…',\n",
       " 'Criminal Conviction',\n",
       " 'Buying Votes, Fraudulent Use Of Absentee Ballots',\n",
       " \"An absentee-ballot buying operation was uncovered in Winston County, Alabama, that led to the conviction of the sheriff, circuit clerk, a district judge, and several candidates for county commission and the board of education. The conspirators set out to buy absentee ballots in the 2000 Republican primary with bribes of cash, beer, and liquor. Judge Richardson pleaded guilty to a misdemeanor charge of failing to report campaign expenditures; the others pleaded guilty to felony charges stemming from the operation. Bailey was sentenced to three years' probation, plus a $1,000 fine and 250 hours of community service. Neal got three years' probation, a $2,500 fine, and 250 hours' community service. Ingram was ordered to serve a year in prison and pay a $1,000 fine. Emerson got two years' probation. Judge Richardson resigned, and received a suspended six-month prison sentence, one year probation, and a $1,000 fine.\",\n",
       " 'Alaska',\n",
       " '2013',\n",
       " 'Deborah Carroll',\n",
       " 'Criminal Conviction',\n",
       " 'Ballot Petition Fraud',\n",
       " \"Deborah Carroll pleaded guilty to one felony count of forging signatures on an initiative petition to re-establish a coastal zone management program. One of the initiative's sponsors noticed inconsistencies with the signatures Carroll had collected and reported the matter to the authorities. Carroll was sentenced to serve two years in jail followed by three years' probation.\",\n",
       " 'Criminal Conviction',\n",
       " 'Any case that results in a defendant entering a plea of guilty or no contest, or being found guilty in court of election-related offenses.',\n",
       " 'Judicial Finding',\n",
       " 'A finding by a court of law that fraud occurred in an election, including judicial orders overturning election results or ordering a new election due to fraud.',\n",
       " 'Civil Penalty',\n",
       " 'Any civil case resulting in fines or other penalties imposed for a violation of election laws.',\n",
       " 'Official Finding',\n",
       " 'A finding by a government body that fraud occurred in an election, including orders overturning election results or ordering a new election due to fraud.',\n",
       " 'Diversion Program',\n",
       " 'Any criminal case in which a judge directs a defendant into a pre-trial diversion program, or stays or defers adjudication with the understanding that the conviction will be cleared upon completion of the program.',\n",
       " 'Fraudulent Use Of Absentee Ballots',\n",
       " 'Requesting absentee ballots and voting without the knowledge of the actual voter; or obtaining the absentee ballot from a voter and either filling it in directly and forging the voter’s signature or illegally telling the voter who to vote for.',\n",
       " 'Ineligible Voting',\n",
       " 'Illegal registration and voting by individuals who are not U.S. citizens, are convicted felons, or are otherwise not eligible to vote.',\n",
       " 'Impersonation Fraud At The Polls',\n",
       " 'Voting in the name of other legitimate voters and voters who have died, moved away, or lost their right to vote because they are felons, but remain registered.',\n",
       " 'Buying Votes',\n",
       " 'Paying voters to cast either an in-person or absentee ballot for a particular candidate.',\n",
       " 'Ballot Petition Fraud',\n",
       " 'Forging the signatures of registered voters on the ballot petitions that must be filed with election officials in some states for a candidate or issue to be listed on the official ballot',\n",
       " 'Duplicate Voting',\n",
       " 'Registering in multiple locations and voting in the same election in more than one jurisdiction or state.',\n",
       " 'False Registrations',\n",
       " 'Voting under fraudulent voter registrations that either use a phony name and a real or fake address or claim residence in a particular jurisdiction where the registered voter does not actually live and is not entitled to vote.',\n",
       " 'Altering The Vote Count',\n",
       " 'Changing the actual vote count either in a precinct or at the central location where votes are counted.',\n",
       " 'Illegal \"Assistance\" At The Polls',\n",
       " 'Forcing or intimidating voters—particularly the elderly, disabled, illiterate, and those for whom English is a second language—to vote for particular candidates while supposedly providing them with “assistance.”']"
      ]
     },
     "execution_count": 339,
     "metadata": {},
     "output_type": "execute_result"
    }
   ],
   "source": [
    "tag_strings"
   ]
  },
  {
   "cell_type": "markdown",
   "metadata": {},
   "source": [
    "Each result page includes definitions that are organized under the same span class as the data we're after and appear at the end of the list `tag_strings`. Each record contains 6 fields and starts with a state, so we skip ahead by 6 until we don't encounter a state. The rest `tag_strings` is the defined terms and their definition, which we save for reference."
   ]
  },
  {
   "cell_type": "code",
   "execution_count": 340,
   "metadata": {
    "scrolled": false
   },
   "outputs": [],
   "source": [
    "states = [\"Alabama\",\"Alaska\",\"Arizona\",\"Arkansas\",\"California\",\"Colorado\",\n",
    "    \"Connecticut\",\"Delaware\",\"Florida\",\"Georgia\",\"Hawaii\",\"Idaho\",\"Illinois\",\n",
    "    \"Indiana\",\"Iowa\",\"Kansas\",\"Kentucky\",\"Louisiana\",\"Maine\",\"Maryland\",\n",
    "    \"Massachusetts\",\"Michigan\",\"Minnesota\",\"Mississippi\",\"Missouri\",\"Montana\",\n",
    "    \"Nebraska\",\"Nevada\",\"New Hampshire\",\"New Jersey\",\"New Mexico\",\"New York\",\n",
    "    \"North Carolina\",\"North Dakota\",\"Ohio\",\"Oklahoma\",\"Oregon\",\"Pennsylvania\",\n",
    "    \"Rhode Island\",\"South Carolina\",\"South Dakota\",\"Tennessee\",\"Texas\",\"Utah\",\n",
    "    \"Vermont\",\"Virginia\",\"Washington\",\"West Virginia\",\"Wisconsin\",\"Wyoming\"]\n",
    "\n",
    "i = 0\n",
    "while tag_strings[i] in states and i < len(tag_strings):\n",
    "    i += 6"
   ]
  },
  {
   "cell_type": "code",
   "execution_count": 341,
   "metadata": {},
   "outputs": [],
   "source": [
    "data, def_list = tag_strings[:i], tag_strings[i:]"
   ]
  },
  {
   "cell_type": "code",
   "execution_count": 342,
   "metadata": {},
   "outputs": [
    {
     "data": {
      "text/plain": [
       "{'Criminal Conviction': 'Any case that results in a defendant entering a plea of guilty or no contest, or being found guilty in court of election-related offenses.',\n",
       " 'Judicial Finding': 'A finding by a court of law that fraud occurred in an election, including judicial orders overturning election results or ordering a new election due to fraud.',\n",
       " 'Civil Penalty': 'Any civil case resulting in fines or other penalties imposed for a violation of election laws.',\n",
       " 'Official Finding': 'A finding by a government body that fraud occurred in an election, including orders overturning election results or ordering a new election due to fraud.',\n",
       " 'Diversion Program': 'Any criminal case in which a judge directs a defendant into a pre-trial diversion program, or stays or defers adjudication with the understanding that the conviction will be cleared upon completion of the program.',\n",
       " 'Fraudulent Use Of Absentee Ballots': 'Requesting absentee ballots and voting without the knowledge of the actual voter; or obtaining the absentee ballot from a voter and either filling it in directly and forging the voter’s signature or illegally telling the voter who to vote for.',\n",
       " 'Ineligible Voting': 'Illegal registration and voting by individuals who are not U.S. citizens, are convicted felons, or are otherwise not eligible to vote.',\n",
       " 'Impersonation Fraud At The Polls': 'Voting in the name of other legitimate voters and voters who have died, moved away, or lost their right to vote because they are felons, but remain registered.',\n",
       " 'Buying Votes': 'Paying voters to cast either an in-person or absentee ballot for a particular candidate.',\n",
       " 'Ballot Petition Fraud': 'Forging the signatures of registered voters on the ballot petitions that must be filed with election officials in some states for a candidate or issue to be listed on the official ballot',\n",
       " 'Duplicate Voting': 'Registering in multiple locations and voting in the same election in more than one jurisdiction or state.',\n",
       " 'False Registrations': 'Voting under fraudulent voter registrations that either use a phony name and a real or fake address or claim residence in a particular jurisdiction where the registered voter does not actually live and is not entitled to vote.',\n",
       " 'Altering The Vote Count': 'Changing the actual vote count either in a precinct or at the central location where votes are counted.',\n",
       " 'Illegal \"Assistance\" At The Polls': 'Forcing or intimidating voters—particularly the elderly, disabled, illiterate, and those for whom English is a second language—to vote for particular candidates while supposedly providing them with “assistance.”'}"
      ]
     },
     "execution_count": 342,
     "metadata": {},
     "output_type": "execute_result"
    }
   ],
   "source": [
    "defs = dict()\n",
    "for i in range(len(def_list)): \n",
    "    if i % 2 == 0: \n",
    "        defs[def_list[i]] = def_list[i+1]\n",
    "defs"
   ]
  },
  {
   "cell_type": "code",
   "execution_count": 343,
   "metadata": {},
   "outputs": [],
   "source": [
    "import pandas as pd\n",
    "import numpy as np"
   ]
  },
  {
   "cell_type": "code",
   "execution_count": 436,
   "metadata": {},
   "outputs": [
    {
     "name": "stdout",
     "output_type": "stream",
     "text": [
      "shape of data is (15, 6)\n"
     ]
    },
    {
     "data": {
      "text/html": [
       "<div>\n",
       "<style scoped>\n",
       "    .dataframe tbody tr th:only-of-type {\n",
       "        vertical-align: middle;\n",
       "    }\n",
       "\n",
       "    .dataframe tbody tr th {\n",
       "        vertical-align: top;\n",
       "    }\n",
       "\n",
       "    .dataframe thead th {\n",
       "        text-align: right;\n",
       "    }\n",
       "</style>\n",
       "<table border=\"1\" class=\"dataframe\">\n",
       "  <thead>\n",
       "    <tr style=\"text-align: right;\">\n",
       "      <th></th>\n",
       "      <th>state</th>\n",
       "      <th>year</th>\n",
       "      <th>name</th>\n",
       "      <th>case_type</th>\n",
       "      <th>fraud_type</th>\n",
       "      <th>description</th>\n",
       "    </tr>\n",
       "  </thead>\n",
       "  <tbody>\n",
       "    <tr>\n",
       "      <th>0</th>\n",
       "      <td>Alabama</td>\n",
       "      <td>2016</td>\n",
       "      <td>Daniel W. Reynolds</td>\n",
       "      <td>Criminal Conviction</td>\n",
       "      <td>Fraudulent Use Of Absentee Ballots</td>\n",
       "      <td>Daniel W. Reynolds pleaded guilty to three cou...</td>\n",
       "    </tr>\n",
       "    <tr>\n",
       "      <th>1</th>\n",
       "      <td>Alabama</td>\n",
       "      <td>2015</td>\n",
       "      <td>Janice Lee Hart</td>\n",
       "      <td>Criminal Conviction</td>\n",
       "      <td>Fraudulent Use Of Absentee Ballots</td>\n",
       "      <td>Janice Lee Hart pleaded guilty to eight misdem...</td>\n",
       "    </tr>\n",
       "    <tr>\n",
       "      <th>2</th>\n",
       "      <td>Alabama</td>\n",
       "      <td>2015</td>\n",
       "      <td>Lesa Coleman</td>\n",
       "      <td>Criminal Conviction</td>\n",
       "      <td>Fraudulent Use Of Absentee Ballots</td>\n",
       "      <td>A Houston County jury found Lesa Coleman guilt...</td>\n",
       "    </tr>\n",
       "    <tr>\n",
       "      <th>3</th>\n",
       "      <td>Alabama</td>\n",
       "      <td>2015</td>\n",
       "      <td>Olivia Lee Reynolds</td>\n",
       "      <td>Criminal Conviction</td>\n",
       "      <td>Fraudulent Use Of Absentee Ballots</td>\n",
       "      <td>Olivia Lee Reynolds was convicted of 24 counts...</td>\n",
       "    </tr>\n",
       "    <tr>\n",
       "      <th>4</th>\n",
       "      <td>Alabama</td>\n",
       "      <td>2012</td>\n",
       "      <td>Venustiano Hernandez-Hernandez</td>\n",
       "      <td>Criminal Conviction</td>\n",
       "      <td>Ineligible Voting</td>\n",
       "      <td>Venustiano Hernandez-Hernandez, an illegal imm...</td>\n",
       "    </tr>\n",
       "  </tbody>\n",
       "</table>\n",
       "</div>"
      ],
      "text/plain": [
       "     state  year                            name            case_type  \\\n",
       "0  Alabama  2016              Daniel W. Reynolds  Criminal Conviction   \n",
       "1  Alabama  2015                 Janice Lee Hart  Criminal Conviction   \n",
       "2  Alabama  2015                    Lesa Coleman  Criminal Conviction   \n",
       "3  Alabama  2015             Olivia Lee Reynolds  Criminal Conviction   \n",
       "4  Alabama  2012  Venustiano Hernandez-Hernandez  Criminal Conviction   \n",
       "\n",
       "                           fraud_type  \\\n",
       "0  Fraudulent Use Of Absentee Ballots   \n",
       "1  Fraudulent Use Of Absentee Ballots   \n",
       "2  Fraudulent Use Of Absentee Ballots   \n",
       "3  Fraudulent Use Of Absentee Ballots   \n",
       "4                   Ineligible Voting   \n",
       "\n",
       "                                         description  \n",
       "0  Daniel W. Reynolds pleaded guilty to three cou...  \n",
       "1  Janice Lee Hart pleaded guilty to eight misdem...  \n",
       "2  A Houston County jury found Lesa Coleman guilt...  \n",
       "3  Olivia Lee Reynolds was convicted of 24 counts...  \n",
       "4  Venustiano Hernandez-Hernandez, an illegal imm...  "
      ]
     },
     "execution_count": 436,
     "metadata": {},
     "output_type": "execute_result"
    }
   ],
   "source": [
    "cols = ['state', 'year', 'name', 'case_type', 'fraud_type', 'description']\n",
    "df = pd.DataFrame(np.array(data).reshape(15, 6), columns=cols)\n",
    "print('shape of data is', df.shape)\n",
    "df.head()"
   ]
  },
  {
   "cell_type": "markdown",
   "metadata": {},
   "source": [
    "We've successfully scraped the first result page and loaded the data into a dataframe. Let's do the same for the rest of the data. "
   ]
  },
  {
   "cell_type": "markdown",
   "metadata": {},
   "source": [
    "### Scrape all HTML Files\n",
    "\n",
    "This will be a general restatement of the last section's work in a single function."
   ]
  },
  {
   "cell_type": "code",
   "execution_count": 351,
   "metadata": {},
   "outputs": [],
   "source": [
    "def scrape_data_from_html(html):\n",
    "    only_spans = SoupStrainer('span')\n",
    "    span_soup = BeautifulSoup(html, parse_only=only_spans)\n",
    "    field_contents = span_soup.find_all(class_='field-content')\n",
    "    tag_strings = []\n",
    "    for tag in field_contents:\n",
    "        child = tag.findChild()\n",
    "        if child:\n",
    "            if child.name == 'p': \n",
    "                tag_strings.append(child.string)\n",
    "        else:\n",
    "            tag_strings.append(tag.string)\n",
    "    i = 0\n",
    "    while i < len(tag_strings) and tag_strings[i] in states:\n",
    "        i += 6\n",
    "    data = tag_strings[:i]\n",
    "    df = pd.DataFrame(np.array(data).reshape(len(data)//6, 6), columns=cols)\n",
    "    return df"
   ]
  },
  {
   "cell_type": "code",
   "execution_count": 367,
   "metadata": {},
   "outputs": [],
   "source": [
    "df = pd.concat([scrape_data_from_html(html) for html in htmls], ignore_index=True)"
   ]
  },
  {
   "cell_type": "code",
   "execution_count": 368,
   "metadata": {},
   "outputs": [
    {
     "data": {
      "text/html": [
       "<div>\n",
       "<style scoped>\n",
       "    .dataframe tbody tr th:only-of-type {\n",
       "        vertical-align: middle;\n",
       "    }\n",
       "\n",
       "    .dataframe tbody tr th {\n",
       "        vertical-align: top;\n",
       "    }\n",
       "\n",
       "    .dataframe thead th {\n",
       "        text-align: right;\n",
       "    }\n",
       "</style>\n",
       "<table border=\"1\" class=\"dataframe\">\n",
       "  <thead>\n",
       "    <tr style=\"text-align: right;\">\n",
       "      <th></th>\n",
       "      <th>state</th>\n",
       "      <th>year</th>\n",
       "      <th>name</th>\n",
       "      <th>case_type</th>\n",
       "      <th>fraud_type</th>\n",
       "      <th>description</th>\n",
       "    </tr>\n",
       "  </thead>\n",
       "  <tbody>\n",
       "    <tr>\n",
       "      <th>600</th>\n",
       "      <td>Pennsylvania</td>\n",
       "      <td>2014</td>\n",
       "      <td>Richard Allan Toney</td>\n",
       "      <td>Criminal Conviction</td>\n",
       "      <td>Fraudulent Use Of Absentee Ballots</td>\n",
       "      <td>The former police chief of Harmar Township, pl...</td>\n",
       "    </tr>\n",
       "    <tr>\n",
       "      <th>582</th>\n",
       "      <td>Ohio</td>\n",
       "      <td>2005</td>\n",
       "      <td>Chad Staton</td>\n",
       "      <td>Criminal Conviction</td>\n",
       "      <td>False Registrations</td>\n",
       "      <td>Chad Staton pleaded guilty to 10 felony counts...</td>\n",
       "    </tr>\n",
       "    <tr>\n",
       "      <th>112</th>\n",
       "      <td>Florida</td>\n",
       "      <td>2013</td>\n",
       "      <td>Christian David Price</td>\n",
       "      <td>Criminal Conviction</td>\n",
       "      <td>False Registrations</td>\n",
       "      <td>Christian David Price, a campaign worker in Fl...</td>\n",
       "    </tr>\n",
       "    <tr>\n",
       "      <th>49</th>\n",
       "      <td>California</td>\n",
       "      <td>2012</td>\n",
       "      <td>Vernon, CA</td>\n",
       "      <td>Judicial Finding</td>\n",
       "      <td>Election Overturned</td>\n",
       "      <td>A City Council election (originally decided by...</td>\n",
       "    </tr>\n",
       "    <tr>\n",
       "      <th>314</th>\n",
       "      <td>Michigan</td>\n",
       "      <td>2012</td>\n",
       "      <td>Lorianne O'Brady, Don Yowchuang,…</td>\n",
       "      <td>Criminal Conviction</td>\n",
       "      <td>Ballot Petition Fraud</td>\n",
       "      <td>Former staff members for U.S. Representative T...</td>\n",
       "    </tr>\n",
       "  </tbody>\n",
       "</table>\n",
       "</div>"
      ],
      "text/plain": [
       "            state  year                               name  \\\n",
       "600  Pennsylvania  2014                Richard Allan Toney   \n",
       "582          Ohio  2005                        Chad Staton   \n",
       "112       Florida  2013              Christian David Price   \n",
       "49     California  2012                         Vernon, CA   \n",
       "314      Michigan  2012  Lorianne O'Brady, Don Yowchuang,…   \n",
       "\n",
       "               case_type                          fraud_type  \\\n",
       "600  Criminal Conviction  Fraudulent Use Of Absentee Ballots   \n",
       "582  Criminal Conviction                 False Registrations   \n",
       "112  Criminal Conviction                 False Registrations   \n",
       "49      Judicial Finding                 Election Overturned   \n",
       "314  Criminal Conviction               Ballot Petition Fraud   \n",
       "\n",
       "                                           description  \n",
       "600  The former police chief of Harmar Township, pl...  \n",
       "582  Chad Staton pleaded guilty to 10 felony counts...  \n",
       "112  Christian David Price, a campaign worker in Fl...  \n",
       "49   A City Council election (originally decided by...  \n",
       "314  Former staff members for U.S. Representative T...  "
      ]
     },
     "execution_count": 368,
     "metadata": {},
     "output_type": "execute_result"
    }
   ],
   "source": [
    "df.sample(5)"
   ]
  },
  {
   "cell_type": "code",
   "execution_count": 369,
   "metadata": {},
   "outputs": [
    {
     "data": {
      "text/plain": [
       "(937, 6)"
      ]
     },
     "execution_count": 369,
     "metadata": {},
     "output_type": "execute_result"
    }
   ],
   "source": [
    "df.shape"
   ]
  },
  {
   "cell_type": "markdown",
   "metadata": {},
   "source": [
    "Indeed, there are only 937 public-facing records when you click on the \"See All Results\" button. This immediately calls into question the accuracy of the number on the frontpage. \n",
    "\n",
    "Digging into the HTML of the results page offered this [printable option](https://www.heritage.org/voterfraud-print/search?case_type=All&combine=&fraud_type=All&state=All&year=), which might've saved some time with the scraping. It also includes the source information, which is also nice. I've saved a copy for future inclusion, but what's important right now is that the number of records on the printable version matches the 937 number given earlier. We take it as given that these are legitimate, sourced instances of voter fraud. "
   ]
  },
  {
   "cell_type": "markdown",
   "metadata": {},
   "source": [
    "## Data Cleaning"
   ]
  },
  {
   "cell_type": "markdown",
   "metadata": {},
   "source": [
    "Looks like some incidents are marked as multiple types of fraud. We should break this out somehow. "
   ]
  },
  {
   "cell_type": "code",
   "execution_count": 377,
   "metadata": {
    "scrolled": true
   },
   "outputs": [
    {
     "data": {
      "text/plain": [
       "Fraudulent Use Of Absentee Ballots, Duplicate Voting                     5\n",
       "False Registrations, Fraudulent Use Of Absentee Ballots                  4\n",
       "False Registrations, Duplicate Voting                                    4\n",
       "Buying Votes, Fraudulent Use Of Absentee Ballots                         4\n",
       "Ineligible Voting, False Registrations                                   3\n",
       "Duplicate Voting, Fraudulent Use Of Absentee Ballots                     3\n",
       "Fraudulent Use Of Absentee Ballots, Election Overturned                  2\n",
       "Ineligible Voting, Fraudulent Use Of Absentee Ballots                    2\n",
       "Fraudulent Use Of Absentee Ballots, False Registrations                  2\n",
       "False Registrations, Election Overturned                                 2\n",
       "Duplicate Voting, Ineligible Voting                                      1\n",
       "Fraudulent Use Of Absentee Ballots, Ineligible Voting                    1\n",
       "Ballot Petition Fraud, Buying Votes                                      1\n",
       "Fraudulent Use Of Absentee Ballots, Buying Votes                         1\n",
       "Fraudulent Use Of Absentee Ballots, Ballot Petition Fraud                1\n",
       "Buying Votes, Duplicate Voting                                           1\n",
       "False Registrations, Ballot Petition Fraud                               1\n",
       "Impersonation Fraud At The Polls, Ineligible Voting                      1\n",
       "Fraudulent Use Of Absentee Ballots, Illegal \"Assistance\" At The Polls    1\n",
       "Impersonation Fraud At The Polls, Duplicate Voting                       1\n",
       "Duplicate Voting, False Registrations                                    1\n",
       "False Registrations, Ineligible Voting                                   1\n",
       "Buying Votes, Election Overturned                                        1\n",
       "Name: fraud_type, dtype: int64"
      ]
     },
     "execution_count": 377,
     "metadata": {},
     "output_type": "execute_result"
    }
   ],
   "source": [
    "df.loc[df.fraud_type.str.split(', ').str.len() > 1, 'fraud_type'].value_counts()"
   ]
  },
  {
   "cell_type": "code",
   "execution_count": 406,
   "metadata": {},
   "outputs": [
    {
     "data": {
      "text/plain": [
       "44"
      ]
     },
     "execution_count": 406,
     "metadata": {},
     "output_type": "execute_result"
    }
   ],
   "source": [
    "fraud = df.fraud_type.str.split(', ')\n",
    "fraud.loc[fraud.str.len() > 1].value_counts().sum()"
   ]
  },
  {
   "cell_type": "code",
   "execution_count": 400,
   "metadata": {},
   "outputs": [
    {
     "data": {
      "text/plain": [
       "44"
      ]
     },
     "execution_count": 400,
     "metadata": {},
     "output_type": "execute_result"
    }
   ],
   "source": [
    "fraud_sets = fraud.apply(set)\n",
    "fraud_sets.loc[fraud_sets.str.len() > 1].value_counts().sum()"
   ]
  },
  {
   "cell_type": "markdown",
   "metadata": {},
   "source": [
    "44 records have two types of fraud associated with them. \n",
    "\n",
    "One option is to use this nifty import from `scikit-learn` to make dummy variables. The different types of fraud are listed as column variables: a 1 in that column indicates that fraud type applies to that incident. BIG shout-out to [this Stack Overflow answer](https://stackoverflow.com/a/51420716/7227829)."
   ]
  },
  {
   "cell_type": "code",
   "execution_count": 411,
   "metadata": {},
   "outputs": [
    {
     "data": {
      "text/html": [
       "<div>\n",
       "<style scoped>\n",
       "    .dataframe tbody tr th:only-of-type {\n",
       "        vertical-align: middle;\n",
       "    }\n",
       "\n",
       "    .dataframe tbody tr th {\n",
       "        vertical-align: top;\n",
       "    }\n",
       "\n",
       "    .dataframe thead th {\n",
       "        text-align: right;\n",
       "    }\n",
       "</style>\n",
       "<table border=\"1\" class=\"dataframe\">\n",
       "  <thead>\n",
       "    <tr style=\"text-align: right;\">\n",
       "      <th></th>\n",
       "      <th>Altering The Vote Count</th>\n",
       "      <th>Ballot Petition Fraud</th>\n",
       "      <th>Buying Votes</th>\n",
       "      <th>Duplicate Voting</th>\n",
       "      <th>Election Overturned</th>\n",
       "      <th>False Registrations</th>\n",
       "      <th>Fraudulent Use Of Absentee Ballots</th>\n",
       "      <th>Illegal \"Assistance\" At The Polls</th>\n",
       "      <th>Impersonation Fraud At The Polls</th>\n",
       "      <th>Ineligible Voting</th>\n",
       "      <th>Miscellaneous</th>\n",
       "    </tr>\n",
       "  </thead>\n",
       "  <tbody>\n",
       "    <tr>\n",
       "      <th>811</th>\n",
       "      <td>0</td>\n",
       "      <td>0</td>\n",
       "      <td>0</td>\n",
       "      <td>0</td>\n",
       "      <td>1</td>\n",
       "      <td>1</td>\n",
       "      <td>0</td>\n",
       "      <td>0</td>\n",
       "      <td>0</td>\n",
       "      <td>0</td>\n",
       "      <td>0</td>\n",
       "    </tr>\n",
       "    <tr>\n",
       "      <th>468</th>\n",
       "      <td>0</td>\n",
       "      <td>0</td>\n",
       "      <td>0</td>\n",
       "      <td>1</td>\n",
       "      <td>0</td>\n",
       "      <td>0</td>\n",
       "      <td>1</td>\n",
       "      <td>0</td>\n",
       "      <td>0</td>\n",
       "      <td>0</td>\n",
       "      <td>0</td>\n",
       "    </tr>\n",
       "    <tr>\n",
       "      <th>174</th>\n",
       "      <td>0</td>\n",
       "      <td>0</td>\n",
       "      <td>0</td>\n",
       "      <td>0</td>\n",
       "      <td>0</td>\n",
       "      <td>1</td>\n",
       "      <td>1</td>\n",
       "      <td>0</td>\n",
       "      <td>0</td>\n",
       "      <td>0</td>\n",
       "      <td>0</td>\n",
       "    </tr>\n",
       "    <tr>\n",
       "      <th>729</th>\n",
       "      <td>0</td>\n",
       "      <td>0</td>\n",
       "      <td>0</td>\n",
       "      <td>1</td>\n",
       "      <td>0</td>\n",
       "      <td>1</td>\n",
       "      <td>0</td>\n",
       "      <td>0</td>\n",
       "      <td>0</td>\n",
       "      <td>0</td>\n",
       "      <td>0</td>\n",
       "    </tr>\n",
       "    <tr>\n",
       "      <th>560</th>\n",
       "      <td>0</td>\n",
       "      <td>1</td>\n",
       "      <td>0</td>\n",
       "      <td>0</td>\n",
       "      <td>0</td>\n",
       "      <td>0</td>\n",
       "      <td>1</td>\n",
       "      <td>0</td>\n",
       "      <td>0</td>\n",
       "      <td>0</td>\n",
       "      <td>0</td>\n",
       "    </tr>\n",
       "  </tbody>\n",
       "</table>\n",
       "</div>"
      ],
      "text/plain": [
       "     Altering The Vote Count  Ballot Petition Fraud  Buying Votes  \\\n",
       "811                        0                      0             0   \n",
       "468                        0                      0             0   \n",
       "174                        0                      0             0   \n",
       "729                        0                      0             0   \n",
       "560                        0                      1             0   \n",
       "\n",
       "     Duplicate Voting  Election Overturned  False Registrations  \\\n",
       "811                 0                    1                    1   \n",
       "468                 1                    0                    0   \n",
       "174                 0                    0                    1   \n",
       "729                 1                    0                    1   \n",
       "560                 0                    0                    0   \n",
       "\n",
       "     Fraudulent Use Of Absentee Ballots  Illegal \"Assistance\" At The Polls  \\\n",
       "811                                   0                                  0   \n",
       "468                                   1                                  0   \n",
       "174                                   1                                  0   \n",
       "729                                   0                                  0   \n",
       "560                                   1                                  0   \n",
       "\n",
       "     Impersonation Fraud At The Polls  Ineligible Voting  Miscellaneous  \n",
       "811                                 0                  0              0  \n",
       "468                                 0                  0              0  \n",
       "174                                 0                  0              0  \n",
       "729                                 0                  0              0  \n",
       "560                                 0                  0              0  "
      ]
     },
     "execution_count": 411,
     "metadata": {},
     "output_type": "execute_result"
    }
   ],
   "source": [
    "from sklearn.preprocessing import MultiLabelBinarizer\n",
    "\n",
    "mlb = MultiLabelBinarizer()\n",
    "fraud_dummy_df = pd.DataFrame(mlb.fit_transform(fraud_sets), columns=mlb.classes_, index=df.index)\n",
    "fraud_dummy_df[fraud_dummy_df.sum(1) > 1].sample(5)"
   ]
  },
  {
   "cell_type": "markdown",
   "metadata": {},
   "source": [
    "Another option is just to duplicate the records that have multiple fraud types. Therefore a single incident listed as \"False Registrations\" and \"Ineligible Voting\" will be listed twice with only their fraud type changed. \n",
    "\n",
    "Trying to give every benefit of the doubt to the The Heritage Foundation here..."
   ]
  },
  {
   "cell_type": "code",
   "execution_count": 434,
   "metadata": {},
   "outputs": [
    {
     "name": "stdout",
     "output_type": "stream",
     "text": [
      "2019 is type <class 'bs4.element.NavigableString'>\n",
      "2018 is type <class 'bs4.element.NavigableString'>\n",
      "2016 is type <class 'bs4.element.NavigableString'>\n",
      "2016 is type <class 'bs4.element.NavigableString'>\n",
      "2016 is type <class 'bs4.element.NavigableString'>\n",
      "2016 is type <class 'bs4.element.NavigableString'>\n",
      "None is type <class 'NoneType'>\n",
      "2016 is type <class 'bs4.element.NavigableString'>\n",
      "2014 is type <class 'bs4.element.NavigableString'>\n",
      "2014 is type <class 'bs4.element.NavigableString'>\n",
      "2018 is type <class 'bs4.element.NavigableString'>\n",
      "2018 is type <class 'bs4.element.NavigableString'>\n",
      "2016 is type <class 'bs4.element.NavigableString'>\n",
      "2016 is type <class 'bs4.element.NavigableString'>\n",
      "2016 is type <class 'bs4.element.NavigableString'>\n"
     ]
    }
   ],
   "source": [
    "for x in df.year:\n",
    "    if type(x) != str: print(x, 'is type', type(x))"
   ]
  },
  {
   "cell_type": "code",
   "execution_count": null,
   "metadata": {},
   "outputs": [],
   "source": []
  }
 ],
 "metadata": {
  "kernelspec": {
   "display_name": "Python 3",
   "language": "python",
   "name": "python3"
  },
  "language_info": {
   "codemirror_mode": {
    "name": "ipython",
    "version": 3
   },
   "file_extension": ".py",
   "mimetype": "text/x-python",
   "name": "python",
   "nbconvert_exporter": "python",
   "pygments_lexer": "ipython3",
   "version": "3.7.7-final"
  }
 },
 "nbformat": 4,
 "nbformat_minor": 4
}